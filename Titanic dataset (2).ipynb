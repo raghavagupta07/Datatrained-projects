{
 "cells": [
  {
   "cell_type": "code",
   "execution_count": 2,
   "id": "c42f3230",
   "metadata": {},
   "outputs": [],
   "source": [
    "#importing the necessary libraries\n",
    "import numpy as np\n",
    "import pandas as pd \n",
    "import seaborn as sns \n",
    "from matplotlib import pyplot as plt"
   ]
  },
  {
   "cell_type": "markdown",
   "id": "434383f2",
   "metadata": {},
   "source": [
    "### Data collection & PreProcessing"
   ]
  },
  {
   "cell_type": "code",
   "execution_count": 3,
   "id": "1632a0d5",
   "metadata": {},
   "outputs": [
    {
     "data": {
      "text/html": [
       "<div>\n",
       "<style scoped>\n",
       "    .dataframe tbody tr th:only-of-type {\n",
       "        vertical-align: middle;\n",
       "    }\n",
       "\n",
       "    .dataframe tbody tr th {\n",
       "        vertical-align: top;\n",
       "    }\n",
       "\n",
       "    .dataframe thead th {\n",
       "        text-align: right;\n",
       "    }\n",
       "</style>\n",
       "<table border=\"1\" class=\"dataframe\">\n",
       "  <thead>\n",
       "    <tr style=\"text-align: right;\">\n",
       "      <th></th>\n",
       "      <th>PassengerId</th>\n",
       "      <th>Survived</th>\n",
       "      <th>Pclass</th>\n",
       "      <th>Name</th>\n",
       "      <th>Sex</th>\n",
       "      <th>Age</th>\n",
       "      <th>SibSp</th>\n",
       "      <th>Parch</th>\n",
       "      <th>Ticket</th>\n",
       "      <th>Fare</th>\n",
       "      <th>Cabin</th>\n",
       "      <th>Embarked</th>\n",
       "    </tr>\n",
       "  </thead>\n",
       "  <tbody>\n",
       "    <tr>\n",
       "      <th>0</th>\n",
       "      <td>1</td>\n",
       "      <td>0</td>\n",
       "      <td>3</td>\n",
       "      <td>Braund, Mr. Owen Harris</td>\n",
       "      <td>male</td>\n",
       "      <td>22.0</td>\n",
       "      <td>1</td>\n",
       "      <td>0</td>\n",
       "      <td>A/5 21171</td>\n",
       "      <td>7.2500</td>\n",
       "      <td>NaN</td>\n",
       "      <td>S</td>\n",
       "    </tr>\n",
       "    <tr>\n",
       "      <th>1</th>\n",
       "      <td>2</td>\n",
       "      <td>1</td>\n",
       "      <td>1</td>\n",
       "      <td>Cumings, Mrs. John Bradley (Florence Briggs Th...</td>\n",
       "      <td>female</td>\n",
       "      <td>38.0</td>\n",
       "      <td>1</td>\n",
       "      <td>0</td>\n",
       "      <td>PC 17599</td>\n",
       "      <td>71.2833</td>\n",
       "      <td>C85</td>\n",
       "      <td>C</td>\n",
       "    </tr>\n",
       "    <tr>\n",
       "      <th>2</th>\n",
       "      <td>3</td>\n",
       "      <td>1</td>\n",
       "      <td>3</td>\n",
       "      <td>Heikkinen, Miss. Laina</td>\n",
       "      <td>female</td>\n",
       "      <td>26.0</td>\n",
       "      <td>0</td>\n",
       "      <td>0</td>\n",
       "      <td>STON/O2. 3101282</td>\n",
       "      <td>7.9250</td>\n",
       "      <td>NaN</td>\n",
       "      <td>S</td>\n",
       "    </tr>\n",
       "    <tr>\n",
       "      <th>3</th>\n",
       "      <td>4</td>\n",
       "      <td>1</td>\n",
       "      <td>1</td>\n",
       "      <td>Futrelle, Mrs. Jacques Heath (Lily May Peel)</td>\n",
       "      <td>female</td>\n",
       "      <td>35.0</td>\n",
       "      <td>1</td>\n",
       "      <td>0</td>\n",
       "      <td>113803</td>\n",
       "      <td>53.1000</td>\n",
       "      <td>C123</td>\n",
       "      <td>S</td>\n",
       "    </tr>\n",
       "    <tr>\n",
       "      <th>4</th>\n",
       "      <td>5</td>\n",
       "      <td>0</td>\n",
       "      <td>3</td>\n",
       "      <td>Allen, Mr. William Henry</td>\n",
       "      <td>male</td>\n",
       "      <td>35.0</td>\n",
       "      <td>0</td>\n",
       "      <td>0</td>\n",
       "      <td>373450</td>\n",
       "      <td>8.0500</td>\n",
       "      <td>NaN</td>\n",
       "      <td>S</td>\n",
       "    </tr>\n",
       "    <tr>\n",
       "      <th>...</th>\n",
       "      <td>...</td>\n",
       "      <td>...</td>\n",
       "      <td>...</td>\n",
       "      <td>...</td>\n",
       "      <td>...</td>\n",
       "      <td>...</td>\n",
       "      <td>...</td>\n",
       "      <td>...</td>\n",
       "      <td>...</td>\n",
       "      <td>...</td>\n",
       "      <td>...</td>\n",
       "      <td>...</td>\n",
       "    </tr>\n",
       "    <tr>\n",
       "      <th>886</th>\n",
       "      <td>887</td>\n",
       "      <td>0</td>\n",
       "      <td>2</td>\n",
       "      <td>Montvila, Rev. Juozas</td>\n",
       "      <td>male</td>\n",
       "      <td>27.0</td>\n",
       "      <td>0</td>\n",
       "      <td>0</td>\n",
       "      <td>211536</td>\n",
       "      <td>13.0000</td>\n",
       "      <td>NaN</td>\n",
       "      <td>S</td>\n",
       "    </tr>\n",
       "    <tr>\n",
       "      <th>887</th>\n",
       "      <td>888</td>\n",
       "      <td>1</td>\n",
       "      <td>1</td>\n",
       "      <td>Graham, Miss. Margaret Edith</td>\n",
       "      <td>female</td>\n",
       "      <td>19.0</td>\n",
       "      <td>0</td>\n",
       "      <td>0</td>\n",
       "      <td>112053</td>\n",
       "      <td>30.0000</td>\n",
       "      <td>B42</td>\n",
       "      <td>S</td>\n",
       "    </tr>\n",
       "    <tr>\n",
       "      <th>888</th>\n",
       "      <td>889</td>\n",
       "      <td>0</td>\n",
       "      <td>3</td>\n",
       "      <td>Johnston, Miss. Catherine Helen \"Carrie\"</td>\n",
       "      <td>female</td>\n",
       "      <td>NaN</td>\n",
       "      <td>1</td>\n",
       "      <td>2</td>\n",
       "      <td>W./C. 6607</td>\n",
       "      <td>23.4500</td>\n",
       "      <td>NaN</td>\n",
       "      <td>S</td>\n",
       "    </tr>\n",
       "    <tr>\n",
       "      <th>889</th>\n",
       "      <td>890</td>\n",
       "      <td>1</td>\n",
       "      <td>1</td>\n",
       "      <td>Behr, Mr. Karl Howell</td>\n",
       "      <td>male</td>\n",
       "      <td>26.0</td>\n",
       "      <td>0</td>\n",
       "      <td>0</td>\n",
       "      <td>111369</td>\n",
       "      <td>30.0000</td>\n",
       "      <td>C148</td>\n",
       "      <td>C</td>\n",
       "    </tr>\n",
       "    <tr>\n",
       "      <th>890</th>\n",
       "      <td>891</td>\n",
       "      <td>0</td>\n",
       "      <td>3</td>\n",
       "      <td>Dooley, Mr. Patrick</td>\n",
       "      <td>male</td>\n",
       "      <td>32.0</td>\n",
       "      <td>0</td>\n",
       "      <td>0</td>\n",
       "      <td>370376</td>\n",
       "      <td>7.7500</td>\n",
       "      <td>NaN</td>\n",
       "      <td>Q</td>\n",
       "    </tr>\n",
       "  </tbody>\n",
       "</table>\n",
       "<p>891 rows × 12 columns</p>\n",
       "</div>"
      ],
      "text/plain": [
       "     PassengerId  Survived  Pclass  \\\n",
       "0              1         0       3   \n",
       "1              2         1       1   \n",
       "2              3         1       3   \n",
       "3              4         1       1   \n",
       "4              5         0       3   \n",
       "..           ...       ...     ...   \n",
       "886          887         0       2   \n",
       "887          888         1       1   \n",
       "888          889         0       3   \n",
       "889          890         1       1   \n",
       "890          891         0       3   \n",
       "\n",
       "                                                  Name     Sex   Age  SibSp  \\\n",
       "0                              Braund, Mr. Owen Harris    male  22.0      1   \n",
       "1    Cumings, Mrs. John Bradley (Florence Briggs Th...  female  38.0      1   \n",
       "2                               Heikkinen, Miss. Laina  female  26.0      0   \n",
       "3         Futrelle, Mrs. Jacques Heath (Lily May Peel)  female  35.0      1   \n",
       "4                             Allen, Mr. William Henry    male  35.0      0   \n",
       "..                                                 ...     ...   ...    ...   \n",
       "886                              Montvila, Rev. Juozas    male  27.0      0   \n",
       "887                       Graham, Miss. Margaret Edith  female  19.0      0   \n",
       "888           Johnston, Miss. Catherine Helen \"Carrie\"  female   NaN      1   \n",
       "889                              Behr, Mr. Karl Howell    male  26.0      0   \n",
       "890                                Dooley, Mr. Patrick    male  32.0      0   \n",
       "\n",
       "     Parch            Ticket     Fare Cabin Embarked  \n",
       "0        0         A/5 21171   7.2500   NaN        S  \n",
       "1        0          PC 17599  71.2833   C85        C  \n",
       "2        0  STON/O2. 3101282   7.9250   NaN        S  \n",
       "3        0            113803  53.1000  C123        S  \n",
       "4        0            373450   8.0500   NaN        S  \n",
       "..     ...               ...      ...   ...      ...  \n",
       "886      0            211536  13.0000   NaN        S  \n",
       "887      0            112053  30.0000   B42        S  \n",
       "888      2        W./C. 6607  23.4500   NaN        S  \n",
       "889      0            111369  30.0000  C148        C  \n",
       "890      0            370376   7.7500   NaN        Q  \n",
       "\n",
       "[891 rows x 12 columns]"
      ]
     },
     "execution_count": 3,
     "metadata": {},
     "output_type": "execute_result"
    }
   ],
   "source": [
    "#data collection\n",
    "#read the data from csv file to pandas dataframe\n",
    "df = pd.read_csv('https://raw.githubusercontent.com/dsrscientist/dataset1/master/titanic_train.csv')\n",
    "df"
   ]
  },
  {
   "cell_type": "markdown",
   "id": "19900b45",
   "metadata": {},
   "source": [
    "here we have totally 891 rows and 12 columns"
   ]
  },
  {
   "cell_type": "code",
   "execution_count": 4,
   "id": "b0695f10",
   "metadata": {},
   "outputs": [
    {
     "data": {
      "text/html": [
       "<div>\n",
       "<style scoped>\n",
       "    .dataframe tbody tr th:only-of-type {\n",
       "        vertical-align: middle;\n",
       "    }\n",
       "\n",
       "    .dataframe tbody tr th {\n",
       "        vertical-align: top;\n",
       "    }\n",
       "\n",
       "    .dataframe thead th {\n",
       "        text-align: right;\n",
       "    }\n",
       "</style>\n",
       "<table border=\"1\" class=\"dataframe\">\n",
       "  <thead>\n",
       "    <tr style=\"text-align: right;\">\n",
       "      <th></th>\n",
       "      <th>PassengerId</th>\n",
       "      <th>Survived</th>\n",
       "      <th>Pclass</th>\n",
       "      <th>Name</th>\n",
       "      <th>Sex</th>\n",
       "      <th>Age</th>\n",
       "      <th>SibSp</th>\n",
       "      <th>Parch</th>\n",
       "      <th>Ticket</th>\n",
       "      <th>Fare</th>\n",
       "      <th>Cabin</th>\n",
       "      <th>Embarked</th>\n",
       "    </tr>\n",
       "  </thead>\n",
       "  <tbody>\n",
       "    <tr>\n",
       "      <th>0</th>\n",
       "      <td>1</td>\n",
       "      <td>0</td>\n",
       "      <td>3</td>\n",
       "      <td>Braund, Mr. Owen Harris</td>\n",
       "      <td>male</td>\n",
       "      <td>22.0</td>\n",
       "      <td>1</td>\n",
       "      <td>0</td>\n",
       "      <td>A/5 21171</td>\n",
       "      <td>7.2500</td>\n",
       "      <td>NaN</td>\n",
       "      <td>S</td>\n",
       "    </tr>\n",
       "    <tr>\n",
       "      <th>1</th>\n",
       "      <td>2</td>\n",
       "      <td>1</td>\n",
       "      <td>1</td>\n",
       "      <td>Cumings, Mrs. John Bradley (Florence Briggs Th...</td>\n",
       "      <td>female</td>\n",
       "      <td>38.0</td>\n",
       "      <td>1</td>\n",
       "      <td>0</td>\n",
       "      <td>PC 17599</td>\n",
       "      <td>71.2833</td>\n",
       "      <td>C85</td>\n",
       "      <td>C</td>\n",
       "    </tr>\n",
       "    <tr>\n",
       "      <th>2</th>\n",
       "      <td>3</td>\n",
       "      <td>1</td>\n",
       "      <td>3</td>\n",
       "      <td>Heikkinen, Miss. Laina</td>\n",
       "      <td>female</td>\n",
       "      <td>26.0</td>\n",
       "      <td>0</td>\n",
       "      <td>0</td>\n",
       "      <td>STON/O2. 3101282</td>\n",
       "      <td>7.9250</td>\n",
       "      <td>NaN</td>\n",
       "      <td>S</td>\n",
       "    </tr>\n",
       "    <tr>\n",
       "      <th>3</th>\n",
       "      <td>4</td>\n",
       "      <td>1</td>\n",
       "      <td>1</td>\n",
       "      <td>Futrelle, Mrs. Jacques Heath (Lily May Peel)</td>\n",
       "      <td>female</td>\n",
       "      <td>35.0</td>\n",
       "      <td>1</td>\n",
       "      <td>0</td>\n",
       "      <td>113803</td>\n",
       "      <td>53.1000</td>\n",
       "      <td>C123</td>\n",
       "      <td>S</td>\n",
       "    </tr>\n",
       "    <tr>\n",
       "      <th>4</th>\n",
       "      <td>5</td>\n",
       "      <td>0</td>\n",
       "      <td>3</td>\n",
       "      <td>Allen, Mr. William Henry</td>\n",
       "      <td>male</td>\n",
       "      <td>35.0</td>\n",
       "      <td>0</td>\n",
       "      <td>0</td>\n",
       "      <td>373450</td>\n",
       "      <td>8.0500</td>\n",
       "      <td>NaN</td>\n",
       "      <td>S</td>\n",
       "    </tr>\n",
       "  </tbody>\n",
       "</table>\n",
       "</div>"
      ],
      "text/plain": [
       "   PassengerId  Survived  Pclass  \\\n",
       "0            1         0       3   \n",
       "1            2         1       1   \n",
       "2            3         1       3   \n",
       "3            4         1       1   \n",
       "4            5         0       3   \n",
       "\n",
       "                                                Name     Sex   Age  SibSp  \\\n",
       "0                            Braund, Mr. Owen Harris    male  22.0      1   \n",
       "1  Cumings, Mrs. John Bradley (Florence Briggs Th...  female  38.0      1   \n",
       "2                             Heikkinen, Miss. Laina  female  26.0      0   \n",
       "3       Futrelle, Mrs. Jacques Heath (Lily May Peel)  female  35.0      1   \n",
       "4                           Allen, Mr. William Henry    male  35.0      0   \n",
       "\n",
       "   Parch            Ticket     Fare Cabin Embarked  \n",
       "0      0         A/5 21171   7.2500   NaN        S  \n",
       "1      0          PC 17599  71.2833   C85        C  \n",
       "2      0  STON/O2. 3101282   7.9250   NaN        S  \n",
       "3      0            113803  53.1000  C123        S  \n",
       "4      0            373450   8.0500   NaN        S  "
      ]
     },
     "execution_count": 4,
     "metadata": {},
     "output_type": "execute_result"
    }
   ],
   "source": [
    "#printing the first five rows of the data using with .head()\n",
    "df.head()"
   ]
  },
  {
   "cell_type": "code",
   "execution_count": 5,
   "id": "cb3e6215",
   "metadata": {},
   "outputs": [
    {
     "data": {
      "text/plain": [
       "(891, 12)"
      ]
     },
     "execution_count": 5,
     "metadata": {},
     "output_type": "execute_result"
    }
   ],
   "source": [
    "#total no.of rows and columns to check below\n",
    "df.shape"
   ]
  },
  {
   "cell_type": "markdown",
   "id": "9b14b507",
   "metadata": {},
   "source": [
    "see here we have 891 rows and 12 columns"
   ]
  },
  {
   "cell_type": "markdown",
   "id": "bdd79637",
   "metadata": {},
   "source": [
    "actually in this set we have totally 12 columns 1columns is target data and remaining 11 are features"
   ]
  },
  {
   "cell_type": "code",
   "execution_count": 6,
   "id": "13a32aaf",
   "metadata": {},
   "outputs": [
    {
     "name": "stdout",
     "output_type": "stream",
     "text": [
      "<class 'pandas.core.frame.DataFrame'>\n",
      "RangeIndex: 891 entries, 0 to 890\n",
      "Data columns (total 12 columns):\n",
      " #   Column       Non-Null Count  Dtype  \n",
      "---  ------       --------------  -----  \n",
      " 0   PassengerId  891 non-null    int64  \n",
      " 1   Survived     891 non-null    int64  \n",
      " 2   Pclass       891 non-null    int64  \n",
      " 3   Name         891 non-null    object \n",
      " 4   Sex          891 non-null    object \n",
      " 5   Age          714 non-null    float64\n",
      " 6   SibSp        891 non-null    int64  \n",
      " 7   Parch        891 non-null    int64  \n",
      " 8   Ticket       891 non-null    object \n",
      " 9   Fare         891 non-null    float64\n",
      " 10  Cabin        204 non-null    object \n",
      " 11  Embarked     889 non-null    object \n",
      "dtypes: float64(2), int64(5), object(5)\n",
      "memory usage: 83.7+ KB\n"
     ]
    }
   ],
   "source": [
    "#find some more information of the data\n",
    "df.info()"
   ]
  },
  {
   "cell_type": "markdown",
   "id": "8f1f95f1",
   "metadata": {},
   "source": [
    "here we observed in this information we have missing values in this dataframe and datatypes are 2float colums,inte type and object type columns."
   ]
  },
  {
   "cell_type": "markdown",
   "id": "5222e868",
   "metadata": {},
   "source": [
    "now we do main thing is find nan values in a dataframe"
   ]
  },
  {
   "cell_type": "code",
   "execution_count": 7,
   "id": "d9cd1ad1",
   "metadata": {},
   "outputs": [
    {
     "data": {
      "text/plain": [
       "PassengerId      0\n",
       "Survived         0\n",
       "Pclass           0\n",
       "Name             0\n",
       "Sex              0\n",
       "Age            177\n",
       "SibSp            0\n",
       "Parch            0\n",
       "Ticket           0\n",
       "Fare             0\n",
       "Cabin          687\n",
       "Embarked         2\n",
       "dtype: int64"
      ]
     },
     "execution_count": 7,
     "metadata": {},
     "output_type": "execute_result"
    }
   ],
   "source": [
    "#check the number of missing values in each column in a df\n",
    "df.isnull().sum()"
   ]
  },
  {
   "cell_type": "markdown",
   "id": "1150121a",
   "metadata": {},
   "source": [
    "see here total how many nan values are present in which columns"
   ]
  },
  {
   "cell_type": "markdown",
   "id": "91b8b451",
   "metadata": {},
   "source": [
    "in age column we have total 177 nan and cabin 687 and in embarked only 2 missing values,totally we have 3 columns missing values"
   ]
  },
  {
   "cell_type": "markdown",
   "id": "aaacaf91",
   "metadata": {},
   "source": [
    "one more point first we observe in this nan columns that cabin column have majority of missing values we can't find the mean and replaceit now what we can drop that column "
   ]
  },
  {
   "cell_type": "code",
   "execution_count": 8,
   "id": "e7db77f3",
   "metadata": {},
   "outputs": [],
   "source": [
    "#finding missing values\n",
    "#drop cabin column from df\n",
    "df = df.drop(columns = 'Cabin',axis=1)"
   ]
  },
  {
   "cell_type": "code",
   "execution_count": 9,
   "id": "ce2950d8",
   "metadata": {},
   "outputs": [],
   "source": [
    "#replacing the missing values in age column with mean\n",
    "df['Age'].fillna(df['Age'].mean(),inplace=True)"
   ]
  },
  {
   "cell_type": "code",
   "execution_count": 10,
   "id": "06355b8f",
   "metadata": {},
   "outputs": [
    {
     "name": "stdout",
     "output_type": "stream",
     "text": [
      "0    S\n",
      "dtype: object\n"
     ]
    }
   ],
   "source": [
    "#find the mode value of in embarked column for repeated more number of times\n",
    "print(df['Embarked'].mode())"
   ]
  },
  {
   "cell_type": "markdown",
   "id": "c705b684",
   "metadata": {},
   "source": [
    "see here s value repeated more number of times.\n",
    "actually why here used mode because we cant find missvalues with mean of categorical data "
   ]
  },
  {
   "cell_type": "markdown",
   "id": "7cf0b53d",
   "metadata": {},
   "source": [
    "now replace with emabarked two missing values with this value S"
   ]
  },
  {
   "cell_type": "code",
   "execution_count": 11,
   "id": "63c0f820",
   "metadata": {},
   "outputs": [
    {
     "name": "stdout",
     "output_type": "stream",
     "text": [
      "S\n"
     ]
    }
   ],
   "source": [
    "print(df['Embarked'].mode()[0])"
   ]
  },
  {
   "cell_type": "code",
   "execution_count": 12,
   "id": "b7977ca5",
   "metadata": {},
   "outputs": [],
   "source": [
    "#replacing the missing values in embarked column with mode value\n",
    "df['Embarked'].fillna(df['Embarked'].mode()[0],inplace=True)"
   ]
  },
  {
   "cell_type": "markdown",
   "id": "35a948f3",
   "metadata": {},
   "source": [
    "filled all the missing values now again check the dataset once"
   ]
  },
  {
   "cell_type": "code",
   "execution_count": 13,
   "id": "ffdd7d39",
   "metadata": {},
   "outputs": [
    {
     "data": {
      "text/plain": [
       "PassengerId    0\n",
       "Survived       0\n",
       "Pclass         0\n",
       "Name           0\n",
       "Sex            0\n",
       "Age            0\n",
       "SibSp          0\n",
       "Parch          0\n",
       "Ticket         0\n",
       "Fare           0\n",
       "Embarked       0\n",
       "dtype: int64"
      ]
     },
     "execution_count": 13,
     "metadata": {},
     "output_type": "execute_result"
    }
   ],
   "source": [
    "#check again the number of missing values are filled or not in each column in a df\n",
    "df.isnull().sum()"
   ]
  },
  {
   "cell_type": "markdown",
   "id": "65421005",
   "metadata": {},
   "source": [
    "see here all missing values are filled and no null values are present"
   ]
  },
  {
   "cell_type": "code",
   "execution_count": 14,
   "id": "61cb949a",
   "metadata": {},
   "outputs": [
    {
     "data": {
      "text/html": [
       "<div>\n",
       "<style scoped>\n",
       "    .dataframe tbody tr th:only-of-type {\n",
       "        vertical-align: middle;\n",
       "    }\n",
       "\n",
       "    .dataframe tbody tr th {\n",
       "        vertical-align: top;\n",
       "    }\n",
       "\n",
       "    .dataframe thead th {\n",
       "        text-align: right;\n",
       "    }\n",
       "</style>\n",
       "<table border=\"1\" class=\"dataframe\">\n",
       "  <thead>\n",
       "    <tr style=\"text-align: right;\">\n",
       "      <th></th>\n",
       "      <th>PassengerId</th>\n",
       "      <th>Survived</th>\n",
       "      <th>Pclass</th>\n",
       "      <th>Name</th>\n",
       "      <th>Sex</th>\n",
       "      <th>Age</th>\n",
       "      <th>SibSp</th>\n",
       "      <th>Parch</th>\n",
       "      <th>Ticket</th>\n",
       "      <th>Fare</th>\n",
       "      <th>Embarked</th>\n",
       "    </tr>\n",
       "  </thead>\n",
       "  <tbody>\n",
       "    <tr>\n",
       "      <th>0</th>\n",
       "      <td>1</td>\n",
       "      <td>0</td>\n",
       "      <td>3</td>\n",
       "      <td>Braund, Mr. Owen Harris</td>\n",
       "      <td>male</td>\n",
       "      <td>22.0</td>\n",
       "      <td>1</td>\n",
       "      <td>0</td>\n",
       "      <td>A/5 21171</td>\n",
       "      <td>7.2500</td>\n",
       "      <td>S</td>\n",
       "    </tr>\n",
       "    <tr>\n",
       "      <th>1</th>\n",
       "      <td>2</td>\n",
       "      <td>1</td>\n",
       "      <td>1</td>\n",
       "      <td>Cumings, Mrs. John Bradley (Florence Briggs Th...</td>\n",
       "      <td>female</td>\n",
       "      <td>38.0</td>\n",
       "      <td>1</td>\n",
       "      <td>0</td>\n",
       "      <td>PC 17599</td>\n",
       "      <td>71.2833</td>\n",
       "      <td>C</td>\n",
       "    </tr>\n",
       "    <tr>\n",
       "      <th>2</th>\n",
       "      <td>3</td>\n",
       "      <td>1</td>\n",
       "      <td>3</td>\n",
       "      <td>Heikkinen, Miss. Laina</td>\n",
       "      <td>female</td>\n",
       "      <td>26.0</td>\n",
       "      <td>0</td>\n",
       "      <td>0</td>\n",
       "      <td>STON/O2. 3101282</td>\n",
       "      <td>7.9250</td>\n",
       "      <td>S</td>\n",
       "    </tr>\n",
       "    <tr>\n",
       "      <th>3</th>\n",
       "      <td>4</td>\n",
       "      <td>1</td>\n",
       "      <td>1</td>\n",
       "      <td>Futrelle, Mrs. Jacques Heath (Lily May Peel)</td>\n",
       "      <td>female</td>\n",
       "      <td>35.0</td>\n",
       "      <td>1</td>\n",
       "      <td>0</td>\n",
       "      <td>113803</td>\n",
       "      <td>53.1000</td>\n",
       "      <td>S</td>\n",
       "    </tr>\n",
       "    <tr>\n",
       "      <th>4</th>\n",
       "      <td>5</td>\n",
       "      <td>0</td>\n",
       "      <td>3</td>\n",
       "      <td>Allen, Mr. William Henry</td>\n",
       "      <td>male</td>\n",
       "      <td>35.0</td>\n",
       "      <td>0</td>\n",
       "      <td>0</td>\n",
       "      <td>373450</td>\n",
       "      <td>8.0500</td>\n",
       "      <td>S</td>\n",
       "    </tr>\n",
       "  </tbody>\n",
       "</table>\n",
       "</div>"
      ],
      "text/plain": [
       "   PassengerId  Survived  Pclass  \\\n",
       "0            1         0       3   \n",
       "1            2         1       1   \n",
       "2            3         1       3   \n",
       "3            4         1       1   \n",
       "4            5         0       3   \n",
       "\n",
       "                                                Name     Sex   Age  SibSp  \\\n",
       "0                            Braund, Mr. Owen Harris    male  22.0      1   \n",
       "1  Cumings, Mrs. John Bradley (Florence Briggs Th...  female  38.0      1   \n",
       "2                             Heikkinen, Miss. Laina  female  26.0      0   \n",
       "3       Futrelle, Mrs. Jacques Heath (Lily May Peel)  female  35.0      1   \n",
       "4                           Allen, Mr. William Henry    male  35.0      0   \n",
       "\n",
       "   Parch            Ticket     Fare Embarked  \n",
       "0      0         A/5 21171   7.2500        S  \n",
       "1      0          PC 17599  71.2833        C  \n",
       "2      0  STON/O2. 3101282   7.9250        S  \n",
       "3      0            113803  53.1000        S  \n",
       "4      0            373450   8.0500        S  "
      ]
     },
     "execution_count": 14,
     "metadata": {},
     "output_type": "execute_result"
    }
   ],
   "source": [
    "#now once check dataframe also \n",
    "df.head()"
   ]
  },
  {
   "cell_type": "markdown",
   "id": "6451a9f2",
   "metadata": {},
   "source": [
    "## EDA"
   ]
  },
  {
   "cell_type": "code",
   "execution_count": 15,
   "id": "7d9690b4",
   "metadata": {},
   "outputs": [
    {
     "data": {
      "text/html": [
       "<div>\n",
       "<style scoped>\n",
       "    .dataframe tbody tr th:only-of-type {\n",
       "        vertical-align: middle;\n",
       "    }\n",
       "\n",
       "    .dataframe tbody tr th {\n",
       "        vertical-align: top;\n",
       "    }\n",
       "\n",
       "    .dataframe thead th {\n",
       "        text-align: right;\n",
       "    }\n",
       "</style>\n",
       "<table border=\"1\" class=\"dataframe\">\n",
       "  <thead>\n",
       "    <tr style=\"text-align: right;\">\n",
       "      <th></th>\n",
       "      <th>PassengerId</th>\n",
       "      <th>Survived</th>\n",
       "      <th>Pclass</th>\n",
       "      <th>Age</th>\n",
       "      <th>SibSp</th>\n",
       "      <th>Parch</th>\n",
       "      <th>Fare</th>\n",
       "    </tr>\n",
       "  </thead>\n",
       "  <tbody>\n",
       "    <tr>\n",
       "      <th>count</th>\n",
       "      <td>891.000000</td>\n",
       "      <td>891.000000</td>\n",
       "      <td>891.000000</td>\n",
       "      <td>891.000000</td>\n",
       "      <td>891.000000</td>\n",
       "      <td>891.000000</td>\n",
       "      <td>891.000000</td>\n",
       "    </tr>\n",
       "    <tr>\n",
       "      <th>mean</th>\n",
       "      <td>446.000000</td>\n",
       "      <td>0.383838</td>\n",
       "      <td>2.308642</td>\n",
       "      <td>29.699118</td>\n",
       "      <td>0.523008</td>\n",
       "      <td>0.381594</td>\n",
       "      <td>32.204208</td>\n",
       "    </tr>\n",
       "    <tr>\n",
       "      <th>std</th>\n",
       "      <td>257.353842</td>\n",
       "      <td>0.486592</td>\n",
       "      <td>0.836071</td>\n",
       "      <td>13.002015</td>\n",
       "      <td>1.102743</td>\n",
       "      <td>0.806057</td>\n",
       "      <td>49.693429</td>\n",
       "    </tr>\n",
       "    <tr>\n",
       "      <th>min</th>\n",
       "      <td>1.000000</td>\n",
       "      <td>0.000000</td>\n",
       "      <td>1.000000</td>\n",
       "      <td>0.420000</td>\n",
       "      <td>0.000000</td>\n",
       "      <td>0.000000</td>\n",
       "      <td>0.000000</td>\n",
       "    </tr>\n",
       "    <tr>\n",
       "      <th>25%</th>\n",
       "      <td>223.500000</td>\n",
       "      <td>0.000000</td>\n",
       "      <td>2.000000</td>\n",
       "      <td>22.000000</td>\n",
       "      <td>0.000000</td>\n",
       "      <td>0.000000</td>\n",
       "      <td>7.910400</td>\n",
       "    </tr>\n",
       "    <tr>\n",
       "      <th>50%</th>\n",
       "      <td>446.000000</td>\n",
       "      <td>0.000000</td>\n",
       "      <td>3.000000</td>\n",
       "      <td>29.699118</td>\n",
       "      <td>0.000000</td>\n",
       "      <td>0.000000</td>\n",
       "      <td>14.454200</td>\n",
       "    </tr>\n",
       "    <tr>\n",
       "      <th>75%</th>\n",
       "      <td>668.500000</td>\n",
       "      <td>1.000000</td>\n",
       "      <td>3.000000</td>\n",
       "      <td>35.000000</td>\n",
       "      <td>1.000000</td>\n",
       "      <td>0.000000</td>\n",
       "      <td>31.000000</td>\n",
       "    </tr>\n",
       "    <tr>\n",
       "      <th>max</th>\n",
       "      <td>891.000000</td>\n",
       "      <td>1.000000</td>\n",
       "      <td>3.000000</td>\n",
       "      <td>80.000000</td>\n",
       "      <td>8.000000</td>\n",
       "      <td>6.000000</td>\n",
       "      <td>512.329200</td>\n",
       "    </tr>\n",
       "  </tbody>\n",
       "</table>\n",
       "</div>"
      ],
      "text/plain": [
       "       PassengerId    Survived      Pclass         Age       SibSp  \\\n",
       "count   891.000000  891.000000  891.000000  891.000000  891.000000   \n",
       "mean    446.000000    0.383838    2.308642   29.699118    0.523008   \n",
       "std     257.353842    0.486592    0.836071   13.002015    1.102743   \n",
       "min       1.000000    0.000000    1.000000    0.420000    0.000000   \n",
       "25%     223.500000    0.000000    2.000000   22.000000    0.000000   \n",
       "50%     446.000000    0.000000    3.000000   29.699118    0.000000   \n",
       "75%     668.500000    1.000000    3.000000   35.000000    1.000000   \n",
       "max     891.000000    1.000000    3.000000   80.000000    8.000000   \n",
       "\n",
       "            Parch        Fare  \n",
       "count  891.000000  891.000000  \n",
       "mean     0.381594   32.204208  \n",
       "std      0.806057   49.693429  \n",
       "min      0.000000    0.000000  \n",
       "25%      0.000000    7.910400  \n",
       "50%      0.000000   14.454200  \n",
       "75%      0.000000   31.000000  \n",
       "max      6.000000  512.329200  "
      ]
     },
     "execution_count": 15,
     "metadata": {},
     "output_type": "execute_result"
    }
   ],
   "source": [
    "#stastical measures of the data\n",
    "df.describe()"
   ]
  },
  {
   "cell_type": "code",
   "execution_count": 16,
   "id": "c4f5bd54",
   "metadata": {},
   "outputs": [
    {
     "data": {
      "text/plain": [
       "0    549\n",
       "1    342\n",
       "Name: Survived, dtype: int64"
      ]
     },
     "execution_count": 16,
     "metadata": {},
     "output_type": "execute_result"
    }
   ],
   "source": [
    "#finding the no.of peoples are survived and not survived\n",
    "df['Survived'].value_counts()"
   ]
  },
  {
   "cell_type": "markdown",
   "id": "75c6d8b5",
   "metadata": {},
   "source": [
    "here we observed 549 are didn't survived and 342 are survived 0 represents not survived and 1 is survived"
   ]
  },
  {
   "cell_type": "code",
   "execution_count": 17,
   "id": "ad4fe7e9",
   "metadata": {},
   "outputs": [],
   "source": [
    "import warnings \n",
    "warnings.filterwarnings('ignore')"
   ]
  },
  {
   "cell_type": "code",
   "execution_count": 18,
   "id": "8a463c65",
   "metadata": {},
   "outputs": [
    {
     "data": {
      "image/png": "[encoded data removed]",
      "text/plain": [
       "<Figure size 432x288 with 1 Axes>"
      ]
     },
     "metadata": {
      "needs_background": "light"
     },
     "output_type": "display_data"
    }
   ],
   "source": [
    "#data visualization\n",
    "#using a seaborn make countplot for survived column\n",
    "plt.figsize = (5,4)\n",
    "plt.ylabel(\"Count\")\n",
    "plt.xlabel(\"Class\")\n",
    "plt.title('Survived and not Survived')\n",
    "sns.countplot('Survived',data = df)\n",
    "plt.show()"
   ]
  },
  {
   "cell_type": "markdown",
   "id": "f48dd058",
   "metadata": {},
   "source": [
    "here  not survived 0 value counts are more then peoples are survived 1 count"
   ]
  },
  {
   "cell_type": "code",
   "execution_count": 19,
   "id": "a1a3d759",
   "metadata": {},
   "outputs": [
    {
     "data": {
      "image/png": "[encoded data removed]",
      "text/plain": [
       "<Figure size 432x288 with 1 Axes>"
      ]
     },
     "metadata": {
      "needs_background": "light"
     },
     "output_type": "display_data"
    }
   ],
   "source": [
    "#now we lets check another count plot for gender\n",
    "#using a seaborn make countplot for sex column\n",
    "plt.figsize = (5,4)\n",
    "plt.ylabel(\"Count\")\n",
    "plt.xlabel(\"Class\")\n",
    "plt.title('Survived and not Survived')\n",
    "sns.countplot('Sex',data = df)\n",
    "plt.show()"
   ]
  },
  {
   "cell_type": "markdown",
   "id": "626d3144",
   "metadata": {},
   "source": [
    "see here male count is high rather than female here male peoples are more not survived and female are less not survived"
   ]
  },
  {
   "cell_type": "code",
   "execution_count": 20,
   "id": "137a7134",
   "metadata": {},
   "outputs": [
    {
     "data": {
      "text/plain": [
       "male      577\n",
       "female    314\n",
       "Name: Sex, dtype: int64"
      ]
     },
     "execution_count": 20,
     "metadata": {},
     "output_type": "execute_result"
    }
   ],
   "source": [
    "#now check value counts for sex column\n",
    "df['Sex'].value_counts()"
   ]
  },
  {
   "cell_type": "markdown",
   "id": "2dcad8a0",
   "metadata": {},
   "source": [
    "male are 577 and female are 314 survived"
   ]
  },
  {
   "cell_type": "code",
   "execution_count": 21,
   "id": "edef57c9",
   "metadata": {},
   "outputs": [
    {
     "data": {
      "text/plain": [
       "<function matplotlib.pyplot.show(close=None, block=None)>"
      ]
     },
     "execution_count": 21,
     "metadata": {},
     "output_type": "execute_result"
    },
    {
     "data": {
      "image/png": "[encoded data removed]",
      "text/plain": [
       "<Figure size 432x288 with 1 Axes>"
      ]
     },
     "metadata": {
      "needs_background": "light"
     },
     "output_type": "display_data"
    }
   ],
   "source": [
    "plt.figsize = (5,4)\n",
    "plt.ylabel(\"Count\")\n",
    "plt.xlabel(\"Class\")\n",
    "plt.title('Survived and not Survived')\n",
    "sns.countplot('Sex',hue = 'Survived',data = df)\n",
    "plt.show"
   ]
  },
  {
   "cell_type": "markdown",
   "id": "85229c2a",
   "metadata": {},
   "source": [
    "see here around 100 males were survived only and around 250+ females were survived"
   ]
  },
  {
   "cell_type": "code",
   "execution_count": 22,
   "id": "acb7469e",
   "metadata": {},
   "outputs": [
    {
     "data": {
      "text/plain": [
       "<function matplotlib.pyplot.show(close=None, block=None)>"
      ]
     },
     "execution_count": 22,
     "metadata": {},
     "output_type": "execute_result"
    },
    {
     "data": {
      "image/png": "[encoded data removed]",
      "text/plain": [
       "<Figure size 432x288 with 1 Axes>"
      ]
     },
     "metadata": {
      "needs_background": "light"
     },
     "output_type": "display_data"
    }
   ],
   "source": [
    "plt.figsize = (5,4)\n",
    "plt.ylabel(\"Count\")\n",
    "plt.xlabel(\"Class\")\n",
    "plt.title('TicketClass')\n",
    "sns.countplot('Pclass',data = df)\n",
    "plt.show"
   ]
  },
  {
   "cell_type": "markdown",
   "id": "914b8b6d",
   "metadata": {},
   "source": [
    "here we have stayed in 3rd class peoples are more, first calss poeples are around 200 and second class peoples are around 190"
   ]
  },
  {
   "cell_type": "code",
   "execution_count": 23,
   "id": "9f73cc9b",
   "metadata": {},
   "outputs": [
    {
     "data": {
      "text/plain": [
       "3    491\n",
       "1    216\n",
       "2    184\n",
       "Name: Pclass, dtype: int64"
      ]
     },
     "execution_count": 23,
     "metadata": {},
     "output_type": "execute_result"
    }
   ],
   "source": [
    "#now we check count plot get exact values\n",
    "df['Pclass'].value_counts()"
   ]
  },
  {
   "cell_type": "code",
   "execution_count": 24,
   "id": "acf558a8",
   "metadata": {},
   "outputs": [
    {
     "data": {
      "text/plain": [
       "<function matplotlib.pyplot.show(close=None, block=None)>"
      ]
     },
     "execution_count": 24,
     "metadata": {},
     "output_type": "execute_result"
    },
    {
     "data": {
      "image/png": "[encoded data removed]",
      "text/plain": [
       "<Figure size 432x288 with 1 Axes>"
      ]
     },
     "metadata": {
      "needs_background": "light"
     },
     "output_type": "display_data"
    }
   ],
   "source": [
    "plt.figsize = (5,4)\n",
    "plt.ylabel(\"Count\")\n",
    "plt.xlabel(\"Class\")\n",
    "plt.title('Survived and not Survived')\n",
    "sns.countplot('Pclass',hue = 'Survived',data = df)\n",
    "plt.show"
   ]
  },
  {
   "cell_type": "markdown",
   "id": "569299aa",
   "metadata": {},
   "source": [
    "see here in first class peoples are more survived and 3rd class peoples are more not survived"
   ]
  },
  {
   "cell_type": "code",
   "execution_count": 25,
   "id": "6d8c20ad",
   "metadata": {},
   "outputs": [
    {
     "data": {
      "text/plain": [
       "<function matplotlib.pyplot.show(close=None, block=None)>"
      ]
     },
     "execution_count": 25,
     "metadata": {},
     "output_type": "execute_result"
    },
    {
     "data": {
      "image/png": "[encoded data removed]",
      "text/plain": [
       "<Figure size 432x288 with 1 Axes>"
      ]
     },
     "metadata": {
      "needs_background": "light"
     },
     "output_type": "display_data"
    }
   ],
   "source": [
    "#plot embarked column\n",
    "plt.figsize = (5,4)\n",
    "plt.ylabel(\"Count\")\n",
    "plt.xlabel(\"Class\")\n",
    "sns.countplot('Embarked',data = df,hue = 'Survived')\n",
    "plt.show"
   ]
  },
  {
   "cell_type": "code",
   "execution_count": 26,
   "id": "633adaa5",
   "metadata": {},
   "outputs": [
    {
     "data": {
      "text/plain": [
       "<function matplotlib.pyplot.show(close=None, block=None)>"
      ]
     },
     "execution_count": 26,
     "metadata": {},
     "output_type": "execute_result"
    },
    {
     "data": {
      "image/png": "[encoded data removed]",
      "text/plain": [
       "<Figure size 432x288 with 1 Axes>"
      ]
     },
     "metadata": {
      "needs_background": "light"
     },
     "output_type": "display_data"
    }
   ],
   "source": [
    "#plot sibsp column\n",
    "plt.figsize = (5,4)\n",
    "plt.ylabel(\"Count\")\n",
    "plt.xlabel(\"Class\")\n",
    "sns.countplot('SibSp',data = df,hue = 'Survived')\n",
    "plt.show"
   ]
  },
  {
   "cell_type": "markdown",
   "id": "2262d772",
   "metadata": {},
   "source": [
    "these are some visualization effects of who are survived and who are not survived"
   ]
  },
  {
   "cell_type": "code",
   "execution_count": 27,
   "id": "03091a90",
   "metadata": {},
   "outputs": [
    {
     "data": {
      "text/html": [
       "<div>\n",
       "<style scoped>\n",
       "    .dataframe tbody tr th:only-of-type {\n",
       "        vertical-align: middle;\n",
       "    }\n",
       "\n",
       "    .dataframe tbody tr th {\n",
       "        vertical-align: top;\n",
       "    }\n",
       "\n",
       "    .dataframe thead th {\n",
       "        text-align: right;\n",
       "    }\n",
       "</style>\n",
       "<table border=\"1\" class=\"dataframe\">\n",
       "  <thead>\n",
       "    <tr style=\"text-align: right;\">\n",
       "      <th></th>\n",
       "      <th>PassengerId</th>\n",
       "      <th>Survived</th>\n",
       "      <th>Pclass</th>\n",
       "      <th>Age</th>\n",
       "      <th>SibSp</th>\n",
       "      <th>Parch</th>\n",
       "      <th>Fare</th>\n",
       "    </tr>\n",
       "  </thead>\n",
       "  <tbody>\n",
       "    <tr>\n",
       "      <th>PassengerId</th>\n",
       "      <td>1.000000</td>\n",
       "      <td>-0.005007</td>\n",
       "      <td>-0.035144</td>\n",
       "      <td>0.033207</td>\n",
       "      <td>-0.057527</td>\n",
       "      <td>-0.001652</td>\n",
       "      <td>0.012658</td>\n",
       "    </tr>\n",
       "    <tr>\n",
       "      <th>Survived</th>\n",
       "      <td>-0.005007</td>\n",
       "      <td>1.000000</td>\n",
       "      <td>-0.338481</td>\n",
       "      <td>-0.069809</td>\n",
       "      <td>-0.035322</td>\n",
       "      <td>0.081629</td>\n",
       "      <td>0.257307</td>\n",
       "    </tr>\n",
       "    <tr>\n",
       "      <th>Pclass</th>\n",
       "      <td>-0.035144</td>\n",
       "      <td>-0.338481</td>\n",
       "      <td>1.000000</td>\n",
       "      <td>-0.331339</td>\n",
       "      <td>0.083081</td>\n",
       "      <td>0.018443</td>\n",
       "      <td>-0.549500</td>\n",
       "    </tr>\n",
       "    <tr>\n",
       "      <th>Age</th>\n",
       "      <td>0.033207</td>\n",
       "      <td>-0.069809</td>\n",
       "      <td>-0.331339</td>\n",
       "      <td>1.000000</td>\n",
       "      <td>-0.232625</td>\n",
       "      <td>-0.179191</td>\n",
       "      <td>0.091566</td>\n",
       "    </tr>\n",
       "    <tr>\n",
       "      <th>SibSp</th>\n",
       "      <td>-0.057527</td>\n",
       "      <td>-0.035322</td>\n",
       "      <td>0.083081</td>\n",
       "      <td>-0.232625</td>\n",
       "      <td>1.000000</td>\n",
       "      <td>0.414838</td>\n",
       "      <td>0.159651</td>\n",
       "    </tr>\n",
       "    <tr>\n",
       "      <th>Parch</th>\n",
       "      <td>-0.001652</td>\n",
       "      <td>0.081629</td>\n",
       "      <td>0.018443</td>\n",
       "      <td>-0.179191</td>\n",
       "      <td>0.414838</td>\n",
       "      <td>1.000000</td>\n",
       "      <td>0.216225</td>\n",
       "    </tr>\n",
       "    <tr>\n",
       "      <th>Fare</th>\n",
       "      <td>0.012658</td>\n",
       "      <td>0.257307</td>\n",
       "      <td>-0.549500</td>\n",
       "      <td>0.091566</td>\n",
       "      <td>0.159651</td>\n",
       "      <td>0.216225</td>\n",
       "      <td>1.000000</td>\n",
       "    </tr>\n",
       "  </tbody>\n",
       "</table>\n",
       "</div>"
      ],
      "text/plain": [
       "             PassengerId  Survived    Pclass       Age     SibSp     Parch  \\\n",
       "PassengerId     1.000000 -0.005007 -0.035144  0.033207 -0.057527 -0.001652   \n",
       "Survived       -0.005007  1.000000 -0.338481 -0.069809 -0.035322  0.081629   \n",
       "Pclass         -0.035144 -0.338481  1.000000 -0.331339  0.083081  0.018443   \n",
       "Age             0.033207 -0.069809 -0.331339  1.000000 -0.232625 -0.179191   \n",
       "SibSp          -0.057527 -0.035322  0.083081 -0.232625  1.000000  0.414838   \n",
       "Parch          -0.001652  0.081629  0.018443 -0.179191  0.414838  1.000000   \n",
       "Fare            0.012658  0.257307 -0.549500  0.091566  0.159651  0.216225   \n",
       "\n",
       "                 Fare  \n",
       "PassengerId  0.012658  \n",
       "Survived     0.257307  \n",
       "Pclass      -0.549500  \n",
       "Age          0.091566  \n",
       "SibSp        0.159651  \n",
       "Parch        0.216225  \n",
       "Fare         1.000000  "
      ]
     },
     "execution_count": 27,
     "metadata": {},
     "output_type": "execute_result"
    }
   ],
   "source": [
    "df.corr()"
   ]
  },
  {
   "cell_type": "code",
   "execution_count": 28,
   "id": "91b5d676",
   "metadata": {},
   "outputs": [
    {
     "data": {
      "text/plain": [
       "<function matplotlib.pyplot.show(close=None, block=None)>"
      ]
     },
     "execution_count": 28,
     "metadata": {},
     "output_type": "execute_result"
    },
    {
     "data": {
      "image/png": "[encoded data removed]",
      "text/plain": [
       "<Figure size 1584x504 with 1 Axes>"
      ]
     },
     "metadata": {
      "needs_background": "light"
     },
     "output_type": "display_data"
    }
   ],
   "source": [
    "#visualize correlation \n",
    "plt.figure(figsize=(22,7))\n",
    "df.corr()['Survived'].sort_values(ascending=False).drop(['Survived']).plot(kind='bar',color='c')\n",
    "plt.xlabel('feature',fontsize=14)\n",
    "plt.ylabel('column with target names',fontsize=14)\n",
    "plt.title('correlation',fontsize=18)\n",
    "plt.show"
   ]
  },
  {
   "cell_type": "code",
   "execution_count": 29,
   "id": "434c3944",
   "metadata": {},
   "outputs": [
    {
     "data": {
      "image/png": "[encoded data removed]",
      "text/plain": [
       "<Figure size 936x360 with 2 Axes>"
      ]
     },
     "metadata": {
      "needs_background": "light"
     },
     "output_type": "display_data"
    }
   ],
   "source": [
    "#lets visualize the correlation between colomns using with heatmap\n",
    "fig, ax = plt.subplots(figsize=(13,5))\n",
    "sns.heatmap(df.corr(), annot=True, linewidths=.5, ax=ax, cmap='rainbow')\n",
    "plt.show()"
   ]
  },
  {
   "cell_type": "code",
   "execution_count": 30,
   "id": "b04bbbd0",
   "metadata": {},
   "outputs": [],
   "source": [
    "#now conver categorical into numeric values\n",
    "#encoding the columns\n",
    "df.replace({'Sex':{'male':0,'female':1},'Embarked':{'S':0,'C':1,'Q':2}},inplace = True)"
   ]
  },
  {
   "cell_type": "markdown",
   "id": "b8a62bb7",
   "metadata": {},
   "source": [
    "here encoding sex column with 0&1 and embarked columnis with replace 0,1&2"
   ]
  },
  {
   "cell_type": "code",
   "execution_count": 31,
   "id": "7d480823",
   "metadata": {},
   "outputs": [
    {
     "data": {
      "text/html": [
       "<div>\n",
       "<style scoped>\n",
       "    .dataframe tbody tr th:only-of-type {\n",
       "        vertical-align: middle;\n",
       "    }\n",
       "\n",
       "    .dataframe tbody tr th {\n",
       "        vertical-align: top;\n",
       "    }\n",
       "\n",
       "    .dataframe thead th {\n",
       "        text-align: right;\n",
       "    }\n",
       "</style>\n",
       "<table border=\"1\" class=\"dataframe\">\n",
       "  <thead>\n",
       "    <tr style=\"text-align: right;\">\n",
       "      <th></th>\n",
       "      <th>PassengerId</th>\n",
       "      <th>Survived</th>\n",
       "      <th>Pclass</th>\n",
       "      <th>Name</th>\n",
       "      <th>Sex</th>\n",
       "      <th>Age</th>\n",
       "      <th>SibSp</th>\n",
       "      <th>Parch</th>\n",
       "      <th>Ticket</th>\n",
       "      <th>Fare</th>\n",
       "      <th>Embarked</th>\n",
       "    </tr>\n",
       "  </thead>\n",
       "  <tbody>\n",
       "    <tr>\n",
       "      <th>0</th>\n",
       "      <td>1</td>\n",
       "      <td>0</td>\n",
       "      <td>3</td>\n",
       "      <td>Braund, Mr. Owen Harris</td>\n",
       "      <td>0</td>\n",
       "      <td>22.0</td>\n",
       "      <td>1</td>\n",
       "      <td>0</td>\n",
       "      <td>A/5 21171</td>\n",
       "      <td>7.2500</td>\n",
       "      <td>0</td>\n",
       "    </tr>\n",
       "    <tr>\n",
       "      <th>1</th>\n",
       "      <td>2</td>\n",
       "      <td>1</td>\n",
       "      <td>1</td>\n",
       "      <td>Cumings, Mrs. John Bradley (Florence Briggs Th...</td>\n",
       "      <td>1</td>\n",
       "      <td>38.0</td>\n",
       "      <td>1</td>\n",
       "      <td>0</td>\n",
       "      <td>PC 17599</td>\n",
       "      <td>71.2833</td>\n",
       "      <td>1</td>\n",
       "    </tr>\n",
       "    <tr>\n",
       "      <th>2</th>\n",
       "      <td>3</td>\n",
       "      <td>1</td>\n",
       "      <td>3</td>\n",
       "      <td>Heikkinen, Miss. Laina</td>\n",
       "      <td>1</td>\n",
       "      <td>26.0</td>\n",
       "      <td>0</td>\n",
       "      <td>0</td>\n",
       "      <td>STON/O2. 3101282</td>\n",
       "      <td>7.9250</td>\n",
       "      <td>0</td>\n",
       "    </tr>\n",
       "    <tr>\n",
       "      <th>3</th>\n",
       "      <td>4</td>\n",
       "      <td>1</td>\n",
       "      <td>1</td>\n",
       "      <td>Futrelle, Mrs. Jacques Heath (Lily May Peel)</td>\n",
       "      <td>1</td>\n",
       "      <td>35.0</td>\n",
       "      <td>1</td>\n",
       "      <td>0</td>\n",
       "      <td>113803</td>\n",
       "      <td>53.1000</td>\n",
       "      <td>0</td>\n",
       "    </tr>\n",
       "    <tr>\n",
       "      <th>4</th>\n",
       "      <td>5</td>\n",
       "      <td>0</td>\n",
       "      <td>3</td>\n",
       "      <td>Allen, Mr. William Henry</td>\n",
       "      <td>0</td>\n",
       "      <td>35.0</td>\n",
       "      <td>0</td>\n",
       "      <td>0</td>\n",
       "      <td>373450</td>\n",
       "      <td>8.0500</td>\n",
       "      <td>0</td>\n",
       "    </tr>\n",
       "  </tbody>\n",
       "</table>\n",
       "</div>"
      ],
      "text/plain": [
       "   PassengerId  Survived  Pclass  \\\n",
       "0            1         0       3   \n",
       "1            2         1       1   \n",
       "2            3         1       3   \n",
       "3            4         1       1   \n",
       "4            5         0       3   \n",
       "\n",
       "                                                Name  Sex   Age  SibSp  Parch  \\\n",
       "0                            Braund, Mr. Owen Harris    0  22.0      1      0   \n",
       "1  Cumings, Mrs. John Bradley (Florence Briggs Th...    1  38.0      1      0   \n",
       "2                             Heikkinen, Miss. Laina    1  26.0      0      0   \n",
       "3       Futrelle, Mrs. Jacques Heath (Lily May Peel)    1  35.0      1      0   \n",
       "4                           Allen, Mr. William Henry    0  35.0      0      0   \n",
       "\n",
       "             Ticket     Fare  Embarked  \n",
       "0         A/5 21171   7.2500         0  \n",
       "1          PC 17599  71.2833         1  \n",
       "2  STON/O2. 3101282   7.9250         0  \n",
       "3            113803  53.1000         0  \n",
       "4            373450   8.0500         0  "
      ]
     },
     "execution_count": 31,
     "metadata": {},
     "output_type": "execute_result"
    }
   ],
   "source": [
    "#now check dataframe\n",
    "df.head()"
   ]
  },
  {
   "cell_type": "markdown",
   "id": "f19e0308",
   "metadata": {},
   "source": [
    "now all categorical columns converted into numeric and one more thing is here there is no use of name,passengerid and ticket columns because it represents only passenger id only i is use no use for model bulding now we can drop the columns"
   ]
  },
  {
   "cell_type": "code",
   "execution_count": 32,
   "id": "3fce0b4c",
   "metadata": {},
   "outputs": [],
   "source": [
    "#seperate features and target\n",
    "x = df.drop(columns = ['PassengerId','Name','Ticket','Survived'],axis = 1)\n",
    "y = df['Survived']"
   ]
  },
  {
   "cell_type": "code",
   "execution_count": 33,
   "id": "11450993",
   "metadata": {},
   "outputs": [
    {
     "data": {
      "text/html": [
       "<div>\n",
       "<style scoped>\n",
       "    .dataframe tbody tr th:only-of-type {\n",
       "        vertical-align: middle;\n",
       "    }\n",
       "\n",
       "    .dataframe tbody tr th {\n",
       "        vertical-align: top;\n",
       "    }\n",
       "\n",
       "    .dataframe thead th {\n",
       "        text-align: right;\n",
       "    }\n",
       "</style>\n",
       "<table border=\"1\" class=\"dataframe\">\n",
       "  <thead>\n",
       "    <tr style=\"text-align: right;\">\n",
       "      <th></th>\n",
       "      <th>Pclass</th>\n",
       "      <th>Sex</th>\n",
       "      <th>Age</th>\n",
       "      <th>SibSp</th>\n",
       "      <th>Parch</th>\n",
       "      <th>Fare</th>\n",
       "      <th>Embarked</th>\n",
       "    </tr>\n",
       "  </thead>\n",
       "  <tbody>\n",
       "    <tr>\n",
       "      <th>0</th>\n",
       "      <td>3</td>\n",
       "      <td>0</td>\n",
       "      <td>22.0</td>\n",
       "      <td>1</td>\n",
       "      <td>0</td>\n",
       "      <td>7.2500</td>\n",
       "      <td>0</td>\n",
       "    </tr>\n",
       "    <tr>\n",
       "      <th>1</th>\n",
       "      <td>1</td>\n",
       "      <td>1</td>\n",
       "      <td>38.0</td>\n",
       "      <td>1</td>\n",
       "      <td>0</td>\n",
       "      <td>71.2833</td>\n",
       "      <td>1</td>\n",
       "    </tr>\n",
       "    <tr>\n",
       "      <th>2</th>\n",
       "      <td>3</td>\n",
       "      <td>1</td>\n",
       "      <td>26.0</td>\n",
       "      <td>0</td>\n",
       "      <td>0</td>\n",
       "      <td>7.9250</td>\n",
       "      <td>0</td>\n",
       "    </tr>\n",
       "    <tr>\n",
       "      <th>3</th>\n",
       "      <td>1</td>\n",
       "      <td>1</td>\n",
       "      <td>35.0</td>\n",
       "      <td>1</td>\n",
       "      <td>0</td>\n",
       "      <td>53.1000</td>\n",
       "      <td>0</td>\n",
       "    </tr>\n",
       "    <tr>\n",
       "      <th>4</th>\n",
       "      <td>3</td>\n",
       "      <td>0</td>\n",
       "      <td>35.0</td>\n",
       "      <td>0</td>\n",
       "      <td>0</td>\n",
       "      <td>8.0500</td>\n",
       "      <td>0</td>\n",
       "    </tr>\n",
       "  </tbody>\n",
       "</table>\n",
       "</div>"
      ],
      "text/plain": [
       "   Pclass  Sex   Age  SibSp  Parch     Fare  Embarked\n",
       "0       3    0  22.0      1      0   7.2500         0\n",
       "1       1    1  38.0      1      0  71.2833         1\n",
       "2       3    1  26.0      0      0   7.9250         0\n",
       "3       1    1  35.0      1      0  53.1000         0\n",
       "4       3    0  35.0      0      0   8.0500         0"
      ]
     },
     "execution_count": 33,
     "metadata": {},
     "output_type": "execute_result"
    }
   ],
   "source": [
    "x.head()"
   ]
  },
  {
   "cell_type": "code",
   "execution_count": 34,
   "id": "12b843e1",
   "metadata": {},
   "outputs": [
    {
     "data": {
      "text/plain": [
       "<bound method NDFrame._add_numeric_operations.<locals>.skew of      Pclass  Sex        Age  SibSp  Parch     Fare  Embarked\n",
       "0         3    0  22.000000      1      0   7.2500         0\n",
       "1         1    1  38.000000      1      0  71.2833         1\n",
       "2         3    1  26.000000      0      0   7.9250         0\n",
       "3         1    1  35.000000      1      0  53.1000         0\n",
       "4         3    0  35.000000      0      0   8.0500         0\n",
       "..      ...  ...        ...    ...    ...      ...       ...\n",
       "886       2    0  27.000000      0      0  13.0000         0\n",
       "887       1    1  19.000000      0      0  30.0000         0\n",
       "888       3    1  29.699118      1      2  23.4500         0\n",
       "889       1    0  26.000000      0      0  30.0000         1\n",
       "890       3    0  32.000000      0      0   7.7500         2\n",
       "\n",
       "[891 rows x 7 columns]>"
      ]
     },
     "execution_count": 34,
     "metadata": {},
     "output_type": "execute_result"
    }
   ],
   "source": [
    "#check skewness\n",
    "x.skew"
   ]
  },
  {
   "cell_type": "code",
   "execution_count": 39,
   "id": "930433ac",
   "metadata": {},
   "outputs": [
    {
     "data": {
      "image/png": "[encoded data removed]",
      "text/plain": [
       "<Figure size 864x864 with 7 Axes>"
      ]
     },
     "metadata": {
      "needs_background": "light"
     },
     "output_type": "display_data"
    }
   ],
   "source": [
    "#check outliers in box plot\n",
    "fig, axs = plt.subplots(7, figsize = (12,12))\n",
    "plt1 = sns.boxplot(x['Pclass'], ax = axs[0])\n",
    "plt2 = sns.boxplot(x['Sex'], ax = axs[1])\n",
    "plt3 = sns.boxplot(x['Age'], ax = axs[2])\n",
    "plt4 = sns.boxplot(x['SibSp'], ax = axs[3])\n",
    "plt5 = sns.boxplot(x['Parch'], ax = axs[4])\n",
    "plt6 = sns.boxplot(x['Fare'], ax = axs[5])\n",
    "plt7 = sns.boxplot(x['Embarked'], ax = axs[6])\n",
    "plt.tight_layout()"
   ]
  },
  {
   "cell_type": "markdown",
   "id": "934cf02b",
   "metadata": {},
   "source": [
    "here we have some outliers are present"
   ]
  },
  {
   "cell_type": "code",
   "execution_count": 40,
   "id": "595f0e05",
   "metadata": {},
   "outputs": [],
   "source": [
    "#remove outliers with power transform\n",
    "from sklearn.preprocessing import power_transform\n",
    "x_new=power_transform(x)\n",
    "x_new=pd.DataFrame(x_new,columns=x.columns)"
   ]
  },
  {
   "cell_type": "code",
   "execution_count": 41,
   "id": "3cb15143",
   "metadata": {},
   "outputs": [
    {
     "data": {
      "text/plain": [
       "<bound method NDFrame._add_numeric_operations.<locals>.skew of        Pclass       Sex       Age     SibSp     Parch      Fare  Embarked\n",
       "0    0.863973 -0.737695 -0.556267  1.373636 -0.560253 -0.878820 -0.615473\n",
       "1   -1.459129  1.355574  0.657269  1.373636 -0.560253  1.336651  1.578373\n",
       "2    0.863973  1.355574 -0.241577 -0.679850 -0.560253 -0.790065 -0.615473\n",
       "3   -1.459129  1.355574  0.437923  1.373636 -0.560253  1.067352 -0.615473\n",
       "4    0.863973 -0.737695  0.437923 -0.679850 -0.560253 -0.774439 -0.615473\n",
       "..        ...       ...       ...       ...       ...       ...       ...\n",
       "886 -0.592604 -0.737695 -0.164262 -0.679850 -0.560253 -0.294907 -0.615473\n",
       "887 -1.459129  1.355574 -0.798775 -0.679850 -0.560253  0.527906 -0.615473\n",
       "888  0.863973  1.355574  0.042001  1.373636  1.846856  0.288885 -0.615473\n",
       "889 -1.459129 -0.737695 -0.241577 -0.679850 -0.560253  0.527906  1.578373\n",
       "890  0.863973 -0.737695  0.215254 -0.679850 -0.560253 -0.812349  1.719856\n",
       "\n",
       "[891 rows x 7 columns]>"
      ]
     },
     "execution_count": 41,
     "metadata": {},
     "output_type": "execute_result"
    }
   ],
   "source": [
    "x_new.skew"
   ]
  },
  {
   "cell_type": "code",
   "execution_count": 44,
   "id": "0d9861da",
   "metadata": {},
   "outputs": [
    {
     "data": {
      "image/png": "[encoded data removed]",
      "text/plain": [
       "<Figure size 864x864 with 7 Axes>"
      ]
     },
     "metadata": {
      "needs_background": "light"
     },
     "output_type": "display_data"
    }
   ],
   "source": [
    "#check outliers in box plot\n",
    "fig, axs = plt.subplots(7, figsize = (12,12))\n",
    "plt1 = sns.boxplot(x_new['Pclass'], ax = axs[0])\n",
    "plt2 = sns.boxplot(x_new['Sex'], ax = axs[1])\n",
    "plt3 = sns.boxplot(x_new['Age'], ax = axs[2])\n",
    "plt4 = sns.boxplot(x_new['SibSp'], ax = axs[3])\n",
    "plt5 = sns.boxplot(x_new['Parch'], ax = axs[4])\n",
    "plt6 = sns.boxplot(x_new['Fare'], ax = axs[5])\n",
    "plt7 = sns.boxplot(x_new['Embarked'], ax = axs[6])\n",
    "plt.tight_layout()"
   ]
  },
  {
   "cell_type": "markdown",
   "id": "124120c1",
   "metadata": {},
   "source": [
    "more of outliers are removed "
   ]
  },
  {
   "cell_type": "code",
   "execution_count": 33,
   "id": "07f08ec0",
   "metadata": {},
   "outputs": [
    {
     "name": "stdout",
     "output_type": "stream",
     "text": [
      "0      0\n",
      "1      1\n",
      "2      1\n",
      "3      1\n",
      "4      0\n",
      "      ..\n",
      "886    0\n",
      "887    1\n",
      "888    0\n",
      "889    1\n",
      "890    0\n",
      "Name: Survived, Length: 891, dtype: int64\n"
     ]
    }
   ],
   "source": [
    "print(y)"
   ]
  },
  {
   "cell_type": "markdown",
   "id": "f15cf0d3",
   "metadata": {},
   "source": [
    "## Model Building"
   ]
  },
  {
   "cell_type": "code",
   "execution_count": 34,
   "id": "940e721c",
   "metadata": {},
   "outputs": [],
   "source": [
    "from sklearn.model_selection import train_test_split"
   ]
  },
  {
   "cell_type": "code",
   "execution_count": 35,
   "id": "89014cdb",
   "metadata": {},
   "outputs": [],
   "source": [
    "#splitting the train_test data\n",
    "x_train, x_test, y_train, y_test = train_test_split(x,y, test_size = 0.2, random_state=0)"
   ]
  },
  {
   "cell_type": "code",
   "execution_count": 36,
   "id": "0c41bd52",
   "metadata": {},
   "outputs": [
    {
     "data": {
      "text/plain": [
       "((891, 7), (712, 7), (179, 7))"
      ]
     },
     "execution_count": 36,
     "metadata": {},
     "output_type": "execute_result"
    }
   ],
   "source": [
    "x.shape,x_train.shape,x_test.shape"
   ]
  },
  {
   "cell_type": "code",
   "execution_count": 37,
   "id": "376bb98f",
   "metadata": {},
   "outputs": [],
   "source": [
    "from sklearn.linear_model import LogisticRegression\n",
    "from sklearn.neighbors import KNeighborsClassifier\n",
    "from sklearn.ensemble import RandomForestClassifier\n",
    "from sklearn.tree import DecisionTreeClassifier\n",
    "from sklearn.metrics import classification_report,confusion_matrix,accuracy_score,roc_auc_score,roc_curve\n",
    "from sklearn.model_selection import cross_val_score"
   ]
  },
  {
   "cell_type": "code",
   "execution_count": 38,
   "id": "7cd48742",
   "metadata": {},
   "outputs": [
    {
     "name": "stdout",
     "output_type": "stream",
     "text": [
      "              precision    recall  f1-score   support\n",
      "\n",
      "           0       0.81      0.87      0.84       439\n",
      "           1       0.77      0.66      0.71       273\n",
      "\n",
      "    accuracy                           0.79       712\n",
      "   macro avg       0.79      0.77      0.78       712\n",
      "weighted avg       0.79      0.79      0.79       712\n",
      "\n",
      "[[384  55]\n",
      " [ 92 181]]\n",
      "              precision    recall  f1-score   support\n",
      "\n",
      "           0       0.82      0.90      0.86       110\n",
      "           1       0.81      0.68      0.74        69\n",
      "\n",
      "    accuracy                           0.82       179\n",
      "   macro avg       0.81      0.79      0.80       179\n",
      "weighted avg       0.82      0.82      0.81       179\n",
      "\n",
      "[[99 11]\n",
      " [22 47]]\n"
     ]
    }
   ],
   "source": [
    "#Train result\n",
    "KNN = KNeighborsClassifier()\n",
    "KNN.fit(x_train, y_train)\n",
    "y_pred =KNN .predict(x_train)\n",
    "accuracy = classification_report(y_train, y_pred)\n",
    "print(accuracy)\n",
    "print(confusion_matrix(y_train, y_pred))\n",
    "\n",
    "\n",
    "#Test result\n",
    "KNN = KNeighborsClassifier()\n",
    "KNN.fit(x_test, y_test)\n",
    "y_pred =KNN .predict(x_test)\n",
    "accuracy = classification_report(y_test, y_pred)\n",
    "print(accuracy)\n",
    "print(confusion_matrix(y_test, y_pred))"
   ]
  },
  {
   "cell_type": "code",
   "execution_count": 39,
   "id": "5c532aca",
   "metadata": {},
   "outputs": [
    {
     "data": {
      "image/png": "[encoded data removed]",
      "text/plain": [
       "<Figure size 432x288 with 1 Axes>"
      ]
     },
     "metadata": {
      "needs_background": "light"
     },
     "output_type": "display_data"
    },
    {
     "name": "stdout",
     "output_type": "stream",
     "text": [
      "The Score for the ROC Curve is : 79.06%\n"
     ]
    }
   ],
   "source": [
    "#roc_curve plot to check the socre of knn\n",
    "fpr, tpr, _= roc_curve(y_test, y_pred)\n",
    "auc_score = roc_auc_score(y_test, y_pred)\n",
    "plt.plot(fpr, tpr, label=\"auc=\"+str(auc_score))\n",
    "plt.box(True)\n",
    "plt.title('ROC CURVE KNN')\n",
    "plt.xlabel('False Positive Rate')\n",
    "plt.ylabel('True Positive Rate')\n",
    "plt.legend(loc=4)\n",
    "plt.grid(True)\n",
    "plt.show()\n",
    "print('The Score for the ROC Curve is : {}%'.format(round(auc_score,4)*100))"
   ]
  },
  {
   "cell_type": "code",
   "execution_count": 40,
   "id": "a8e4e99d",
   "metadata": {},
   "outputs": [
    {
     "name": "stdout",
     "output_type": "stream",
     "text": [
      "              precision    recall  f1-score   support\n",
      "\n",
      "           0       0.98      0.99      0.99       439\n",
      "           1       0.99      0.96      0.98       273\n",
      "\n",
      "    accuracy                           0.98       712\n",
      "   macro avg       0.98      0.98      0.98       712\n",
      "weighted avg       0.98      0.98      0.98       712\n",
      "\n",
      "[[436   3]\n",
      " [ 10 263]]\n",
      "              precision    recall  f1-score   support\n",
      "\n",
      "           0       0.84      0.90      0.87       110\n",
      "           1       0.82      0.72      0.77        69\n",
      "\n",
      "    accuracy                           0.83       179\n",
      "   macro avg       0.83      0.81      0.82       179\n",
      "weighted avg       0.83      0.83      0.83       179\n",
      "\n",
      "[[99 11]\n",
      " [19 50]]\n"
     ]
    }
   ],
   "source": [
    "#train result\n",
    "RFC = RandomForestClassifier()\n",
    "RFC.fit(x_train, y_train)\n",
    "y_pred =RFC .predict(x_train)\n",
    "accuracy = classification_report(y_train, y_pred)\n",
    "print(accuracy)\n",
    "print(confusion_matrix(y_train, y_pred))\n",
    "\n",
    "\n",
    "#test result\n",
    "RFC = RandomForestClassifier()\n",
    "RFC.fit(x_train, y_train)\n",
    "y_pred =RFC .predict(x_test)\n",
    "accuracy = classification_report(y_test, y_pred)\n",
    "print(accuracy)\n",
    "print(confusion_matrix(y_test, y_pred))"
   ]
  },
  {
   "cell_type": "code",
   "execution_count": 41,
   "id": "7a2c55cc",
   "metadata": {},
   "outputs": [
    {
     "data": {
      "image/png": "[encoded data removed]",
      "text/plain": [
       "<Figure size 432x288 with 1 Axes>"
      ]
     },
     "metadata": {
      "needs_background": "light"
     },
     "output_type": "display_data"
    },
    {
     "name": "stdout",
     "output_type": "stream",
     "text": [
      "The Score for the ROC Curve is : 81.23%\n"
     ]
    }
   ],
   "source": [
    "#roc_curve plot to check the socre of RFC\n",
    "fpr, tpr, _= roc_curve(y_test, y_pred)\n",
    "auc_score = roc_auc_score(y_test, y_pred)\n",
    "plt.plot(fpr, tpr, label=\"auc=\"+str(auc_score))\n",
    "plt.box(True)\n",
    "plt.title('ROC CURVE RFC')\n",
    "plt.xlabel('False Positive Rate')\n",
    "plt.ylabel('True Positive Rate')\n",
    "plt.legend(loc=4)\n",
    "plt.grid(True)\n",
    "plt.show()\n",
    "print('The Score for the ROC Curve is : {}%'.format(round(auc_score,4)*100))"
   ]
  },
  {
   "cell_type": "code",
   "execution_count": 42,
   "id": "d552d74d",
   "metadata": {},
   "outputs": [
    {
     "name": "stdout",
     "output_type": "stream",
     "text": [
      "              precision    recall  f1-score   support\n",
      "\n",
      "           0       0.97      1.00      0.99       439\n",
      "           1       1.00      0.95      0.98       273\n",
      "\n",
      "    accuracy                           0.98       712\n",
      "   macro avg       0.99      0.98      0.98       712\n",
      "weighted avg       0.98      0.98      0.98       712\n",
      "\n",
      "[[439   0]\n",
      " [ 13 260]]\n",
      "              precision    recall  f1-score   support\n",
      "\n",
      "           0       0.80      0.85      0.83       110\n",
      "           1       0.74      0.67      0.70        69\n",
      "\n",
      "    accuracy                           0.78       179\n",
      "   macro avg       0.77      0.76      0.77       179\n",
      "weighted avg       0.78      0.78      0.78       179\n",
      "\n",
      "[[94 16]\n",
      " [23 46]]\n"
     ]
    }
   ],
   "source": [
    "#train result\n",
    "DecisionTree = DecisionTreeClassifier()\n",
    "DecisionTree.fit(x_train, y_train)\n",
    "y_pred =DecisionTree .predict(x_train)\n",
    "accuracy = classification_report(y_train, y_pred)\n",
    "print(accuracy)\n",
    "print(confusion_matrix(y_train, y_pred))\n",
    "\n",
    "#test result\n",
    "DecisionTree = DecisionTreeClassifier()\n",
    "DecisionTree.fit(x_train, y_train)\n",
    "y_pred =DecisionTree .predict(x_test)\n",
    "accuracy = classification_report(y_test, y_pred)\n",
    "print(accuracy)\n",
    "print(confusion_matrix(y_test, y_pred))"
   ]
  },
  {
   "cell_type": "code",
   "execution_count": 43,
   "id": "7be2dd69",
   "metadata": {},
   "outputs": [
    {
     "data": {
      "image/png": "[encoded data removed]",
      "text/plain": [
       "<Figure size 432x288 with 1 Axes>"
      ]
     },
     "metadata": {
      "needs_background": "light"
     },
     "output_type": "display_data"
    },
    {
     "name": "stdout",
     "output_type": "stream",
     "text": [
      "The Score for the ROC Curve is : 76.06%\n"
     ]
    }
   ],
   "source": [
    "#roc_curve plot to check the socre of Decisiontree\n",
    "fpr, tpr, _= roc_curve(y_test, y_pred)\n",
    "auc_score = roc_auc_score(y_test, y_pred)\n",
    "plt.plot(fpr, tpr, label=\"auc=\"+str(auc_score))\n",
    "plt.box(True)\n",
    "plt.title('ROC CURVE DecisionTree')\n",
    "plt.xlabel('False Positive Rate')\n",
    "plt.ylabel('True Positive Rate')\n",
    "plt.legend(loc=4)\n",
    "plt.grid(True)\n",
    "plt.show()\n",
    "print('The Score for the ROC Curve is : {}%'.format(round(auc_score,4)*100))"
   ]
  },
  {
   "cell_type": "code",
   "execution_count": 44,
   "id": "05635605",
   "metadata": {},
   "outputs": [
    {
     "name": "stdout",
     "output_type": "stream",
     "text": [
      "              precision    recall  f1-score   support\n",
      "\n",
      "           0       0.82      0.87      0.84       439\n",
      "           1       0.77      0.70      0.73       273\n",
      "\n",
      "    accuracy                           0.80       712\n",
      "   macro avg       0.79      0.78      0.79       712\n",
      "weighted avg       0.80      0.80      0.80       712\n",
      "\n",
      "[[381  58]\n",
      " [ 82 191]]\n",
      "              precision    recall  f1-score   support\n",
      "\n",
      "           0       0.84      0.85      0.84       110\n",
      "           1       0.75      0.74      0.74        69\n",
      "\n",
      "    accuracy                           0.80       179\n",
      "   macro avg       0.79      0.79      0.79       179\n",
      "weighted avg       0.80      0.80      0.80       179\n",
      "\n",
      "[[93 17]\n",
      " [18 51]]\n"
     ]
    }
   ],
   "source": [
    "#train result\n",
    "LR = LogisticRegression()\n",
    "LR.fit(x_train, y_train)\n",
    "y_pred =LR .predict(x_train)\n",
    "accuracy = classification_report(y_train, y_pred)\n",
    "print(accuracy)\n",
    "print(confusion_matrix(y_train, y_pred))\n",
    "\n",
    "\n",
    "#test result\n",
    "LR = LogisticRegression()\n",
    "LR.fit(x_train, y_train)\n",
    "y_pred =LR .predict(x_test)\n",
    "accuracy = classification_report(y_test, y_pred)\n",
    "print(accuracy)\n",
    "print(confusion_matrix(y_test, y_pred))"
   ]
  },
  {
   "cell_type": "code",
   "execution_count": 45,
   "id": "8acefdea",
   "metadata": {},
   "outputs": [
    {
     "data": {
      "image/png": "[encoded data removed]",
      "text/plain": [
       "<Figure size 432x288 with 1 Axes>"
      ]
     },
     "metadata": {
      "needs_background": "light"
     },
     "output_type": "display_data"
    },
    {
     "name": "stdout",
     "output_type": "stream",
     "text": [
      "The Score for the ROC Curve is : 79.23%\n"
     ]
    }
   ],
   "source": [
    "#roc_curve plot to check the socre of LogesticRegression\n",
    "fpr, tpr, _= roc_curve(y_test, y_pred)\n",
    "auc_score = roc_auc_score(y_test, y_pred)\n",
    "plt.plot(fpr, tpr, label=\"auc=\"+str(auc_score))\n",
    "plt.box(True)\n",
    "plt.title('ROC CURVE LR')\n",
    "plt.xlabel('False Positive Rate')\n",
    "plt.ylabel('True Positive Rate')\n",
    "plt.legend(loc=4)\n",
    "plt.grid(True)\n",
    "plt.show()\n",
    "print('The Score for the ROC Curve is : {}%'.format(round(auc_score,4)*100))"
   ]
  },
  {
   "cell_type": "markdown",
   "id": "fdf2c5e1",
   "metadata": {},
   "source": [
    "# hyper parameter tuning"
   ]
  },
  {
   "cell_type": "code",
   "execution_count": 46,
   "id": "99bf4f4e",
   "metadata": {},
   "outputs": [],
   "source": [
    "from sklearn.model_selection import GridSearchCV\n",
    "from scipy.stats import randint"
   ]
  },
  {
   "cell_type": "code",
   "execution_count": 47,
   "id": "0a78f4a4",
   "metadata": {},
   "outputs": [],
   "source": [
    "params = parameters={'max_depth':list(range(200,400,50)),\n",
    "            'n_estimators':list(range(10,120,20)),\n",
    "            'max_features': ['auto', 'sqrt', 'log2'],      \n",
    "         }"
   ]
  },
  {
   "cell_type": "code",
   "execution_count": 48,
   "id": "5b4f6615",
   "metadata": {},
   "outputs": [],
   "source": [
    "model=RandomForestClassifier()"
   ]
  },
  {
   "cell_type": "code",
   "execution_count": 49,
   "id": "b02261ab",
   "metadata": {},
   "outputs": [],
   "source": [
    "grid_clf=GridSearchCV(model,parameters,verbose=4,refit=True)"
   ]
  },
  {
   "cell_type": "code",
   "execution_count": 58,
   "id": "1d3ff07e",
   "metadata": {
    "collapsed": true
   },
   "outputs": [
    {
     "name": "stdout",
     "output_type": "stream",
     "text": [
      "Fitting 5 folds for each of 72 candidates, totalling 360 fits\n",
      "[CV 1/5] END max_depth=200, max_features=auto, n_estimators=10; total time=   0.0s\n",
      "[CV 2/5] END max_depth=200, max_features=auto, n_estimators=10; total time=   0.0s\n",
      "[CV 3/5] END max_depth=200, max_features=auto, n_estimators=10; total time=   0.0s\n",
      "[CV 4/5] END max_depth=200, max_features=auto, n_estimators=10; total time=   0.0s\n",
      "[CV 5/5] END max_depth=200, max_features=auto, n_estimators=10; total time=   0.0s\n",
      "[CV 1/5] END max_depth=200, max_features=auto, n_estimators=30; total time=   0.0s\n",
      "[CV 2/5] END max_depth=200, max_features=auto, n_estimators=30; total time=   0.0s\n",
      "[CV 3/5] END max_depth=200, max_features=auto, n_estimators=30; total time=   0.0s\n",
      "[CV 4/5] END max_depth=200, max_features=auto, n_estimators=30; total time=   0.0s\n",
      "[CV 5/5] END max_depth=200, max_features=auto, n_estimators=30; total time=   0.1s\n",
      "[CV 1/5] END max_depth=200, max_features=auto, n_estimators=50; total time=   0.1s\n",
      "[CV 2/5] END max_depth=200, max_features=auto, n_estimators=50; total time=   0.1s\n",
      "[CV 3/5] END max_depth=200, max_features=auto, n_estimators=50; total time=   0.1s\n",
      "[CV 4/5] END max_depth=200, max_features=auto, n_estimators=50; total time=   0.1s\n",
      "[CV 5/5] END max_depth=200, max_features=auto, n_estimators=50; total time=   0.1s\n",
      "[CV 1/5] END max_depth=200, max_features=auto, n_estimators=70; total time=   0.2s\n",
      "[CV 2/5] END max_depth=200, max_features=auto, n_estimators=70; total time=   0.2s\n",
      "[CV 3/5] END max_depth=200, max_features=auto, n_estimators=70; total time=   0.2s\n",
      "[CV 4/5] END max_depth=200, max_features=auto, n_estimators=70; total time=   0.2s\n",
      "[CV 5/5] END max_depth=200, max_features=auto, n_estimators=70; total time=   0.2s\n",
      "[CV 1/5] END max_depth=200, max_features=auto, n_estimators=90; total time=   0.3s\n",
      "[CV 2/5] END max_depth=200, max_features=auto, n_estimators=90; total time=   0.3s\n",
      "[CV 3/5] END max_depth=200, max_features=auto, n_estimators=90; total time=   0.3s\n",
      "[CV 4/5] END max_depth=200, max_features=auto, n_estimators=90; total time=   0.3s\n",
      "[CV 5/5] END max_depth=200, max_features=auto, n_estimators=90; total time=   0.3s\n",
      "[CV 1/5] END max_depth=200, max_features=auto, n_estimators=110; total time=   0.4s\n",
      "[CV 2/5] END max_depth=200, max_features=auto, n_estimators=110; total time=   0.4s\n",
      "[CV 3/5] END max_depth=200, max_features=auto, n_estimators=110; total time=   0.4s\n",
      "[CV 4/5] END max_depth=200, max_features=auto, n_estimators=110; total time=   0.4s\n",
      "[CV 5/5] END max_depth=200, max_features=auto, n_estimators=110; total time=   0.4s\n",
      "[CV 1/5] END max_depth=200, max_features=sqrt, n_estimators=10; total time=   0.0s\n",
      "[CV 2/5] END max_depth=200, max_features=sqrt, n_estimators=10; total time=   0.0s\n",
      "[CV 3/5] END max_depth=200, max_features=sqrt, n_estimators=10; total time=   0.0s\n",
      "[CV 4/5] END max_depth=200, max_features=sqrt, n_estimators=10; total time=   0.0s\n",
      "[CV 5/5] END max_depth=200, max_features=sqrt, n_estimators=10; total time=   0.0s\n",
      "[CV 1/5] END max_depth=200, max_features=sqrt, n_estimators=30; total time=   0.0s\n",
      "[CV 2/5] END max_depth=200, max_features=sqrt, n_estimators=30; total time=   0.0s\n",
      "[CV 3/5] END max_depth=200, max_features=sqrt, n_estimators=30; total time=   0.0s\n",
      "[CV 4/5] END max_depth=200, max_features=sqrt, n_estimators=30; total time=   0.0s\n",
      "[CV 5/5] END max_depth=200, max_features=sqrt, n_estimators=30; total time=   0.0s\n",
      "[CV 1/5] END max_depth=200, max_features=sqrt, n_estimators=50; total time=   0.1s\n",
      "[CV 2/5] END max_depth=200, max_features=sqrt, n_estimators=50; total time=   0.1s\n",
      "[CV 3/5] END max_depth=200, max_features=sqrt, n_estimators=50; total time=   0.1s\n",
      "[CV 4/5] END max_depth=200, max_features=sqrt, n_estimators=50; total time=   0.1s\n",
      "[CV 5/5] END max_depth=200, max_features=sqrt, n_estimators=50; total time=   0.1s\n",
      "[CV 1/5] END max_depth=200, max_features=sqrt, n_estimators=70; total time=   0.2s\n",
      "[CV 2/5] END max_depth=200, max_features=sqrt, n_estimators=70; total time=   0.2s\n",
      "[CV 3/5] END max_depth=200, max_features=sqrt, n_estimators=70; total time=   0.2s\n",
      "[CV 4/5] END max_depth=200, max_features=sqrt, n_estimators=70; total time=   0.2s\n",
      "[CV 5/5] END max_depth=200, max_features=sqrt, n_estimators=70; total time=   0.1s\n",
      "[CV 1/5] END max_depth=200, max_features=sqrt, n_estimators=90; total time=   0.2s\n",
      "[CV 2/5] END max_depth=200, max_features=sqrt, n_estimators=90; total time=   0.3s\n",
      "[CV 3/5] END max_depth=200, max_features=sqrt, n_estimators=90; total time=   0.3s\n",
      "[CV 4/5] END max_depth=200, max_features=sqrt, n_estimators=90; total time=   0.3s\n",
      "[CV 5/5] END max_depth=200, max_features=sqrt, n_estimators=90; total time=   0.3s\n",
      "[CV 1/5] END max_depth=200, max_features=sqrt, n_estimators=110; total time=   0.4s\n",
      "[CV 2/5] END max_depth=200, max_features=sqrt, n_estimators=110; total time=   0.4s\n",
      "[CV 3/5] END max_depth=200, max_features=sqrt, n_estimators=110; total time=   0.4s\n",
      "[CV 4/5] END max_depth=200, max_features=sqrt, n_estimators=110; total time=   0.4s\n",
      "[CV 5/5] END max_depth=200, max_features=sqrt, n_estimators=110; total time=   0.4s\n",
      "[CV 1/5] END max_depth=200, max_features=log2, n_estimators=10; total time=   0.0s\n",
      "[CV 2/5] END max_depth=200, max_features=log2, n_estimators=10; total time=   0.0s\n",
      "[CV 3/5] END max_depth=200, max_features=log2, n_estimators=10; total time=   0.0s\n",
      "[CV 4/5] END max_depth=200, max_features=log2, n_estimators=10; total time=   0.0s\n",
      "[CV 5/5] END max_depth=200, max_features=log2, n_estimators=10; total time=   0.0s\n",
      "[CV 1/5] END max_depth=200, max_features=log2, n_estimators=30; total time=   0.0s\n",
      "[CV 2/5] END max_depth=200, max_features=log2, n_estimators=30; total time=   0.0s\n",
      "[CV 3/5] END max_depth=200, max_features=log2, n_estimators=30; total time=   0.0s\n",
      "[CV 4/5] END max_depth=200, max_features=log2, n_estimators=30; total time=   0.0s\n",
      "[CV 5/5] END max_depth=200, max_features=log2, n_estimators=30; total time=   0.0s\n",
      "[CV 1/5] END max_depth=200, max_features=log2, n_estimators=50; total time=   0.1s\n",
      "[CV 2/5] END max_depth=200, max_features=log2, n_estimators=50; total time=   0.1s\n",
      "[CV 3/5] END max_depth=200, max_features=log2, n_estimators=50; total time=   0.1s\n",
      "[CV 4/5] END max_depth=200, max_features=log2, n_estimators=50; total time=   0.1s\n",
      "[CV 5/5] END max_depth=200, max_features=log2, n_estimators=50; total time=   0.1s\n",
      "[CV 1/5] END max_depth=200, max_features=log2, n_estimators=70; total time=   0.2s\n",
      "[CV 2/5] END max_depth=200, max_features=log2, n_estimators=70; total time=   0.2s\n",
      "[CV 3/5] END max_depth=200, max_features=log2, n_estimators=70; total time=   0.2s\n",
      "[CV 4/5] END max_depth=200, max_features=log2, n_estimators=70; total time=   0.2s\n",
      "[CV 5/5] END max_depth=200, max_features=log2, n_estimators=70; total time=   0.2s\n",
      "[CV 1/5] END max_depth=200, max_features=log2, n_estimators=90; total time=   0.3s\n",
      "[CV 2/5] END max_depth=200, max_features=log2, n_estimators=90; total time=   0.3s\n",
      "[CV 3/5] END max_depth=200, max_features=log2, n_estimators=90; total time=   0.3s\n",
      "[CV 4/5] END max_depth=200, max_features=log2, n_estimators=90; total time=   0.3s\n",
      "[CV 5/5] END max_depth=200, max_features=log2, n_estimators=90; total time=   0.3s\n",
      "[CV 1/5] END max_depth=200, max_features=log2, n_estimators=110; total time=   0.4s\n",
      "[CV 2/5] END max_depth=200, max_features=log2, n_estimators=110; total time=   0.4s\n",
      "[CV 3/5] END max_depth=200, max_features=log2, n_estimators=110; total time=   0.4s\n",
      "[CV 4/5] END max_depth=200, max_features=log2, n_estimators=110; total time=   0.4s\n",
      "[CV 5/5] END max_depth=200, max_features=log2, n_estimators=110; total time=   0.4s\n",
      "[CV 1/5] END max_depth=250, max_features=auto, n_estimators=10; total time=   0.0s\n",
      "[CV 2/5] END max_depth=250, max_features=auto, n_estimators=10; total time=   0.0s\n",
      "[CV 3/5] END max_depth=250, max_features=auto, n_estimators=10; total time=   0.0s\n",
      "[CV 4/5] END max_depth=250, max_features=auto, n_estimators=10; total time=   0.0s\n",
      "[CV 5/5] END max_depth=250, max_features=auto, n_estimators=10; total time=   0.0s\n",
      "[CV 1/5] END max_depth=250, max_features=auto, n_estimators=30; total time=   0.0s\n",
      "[CV 2/5] END max_depth=250, max_features=auto, n_estimators=30; total time=   0.0s\n",
      "[CV 3/5] END max_depth=250, max_features=auto, n_estimators=30; total time=   0.0s\n",
      "[CV 4/5] END max_depth=250, max_features=auto, n_estimators=30; total time=   0.0s\n",
      "[CV 5/5] END max_depth=250, max_features=auto, n_estimators=30; total time=   0.1s\n",
      "[CV 1/5] END max_depth=250, max_features=auto, n_estimators=50; total time=   0.2s\n",
      "[CV 2/5] END max_depth=250, max_features=auto, n_estimators=50; total time=   0.1s\n",
      "[CV 3/5] END max_depth=250, max_features=auto, n_estimators=50; total time=   0.1s\n",
      "[CV 4/5] END max_depth=250, max_features=auto, n_estimators=50; total time=   0.1s\n",
      "[CV 5/5] END max_depth=250, max_features=auto, n_estimators=50; total time=   0.1s\n",
      "[CV 1/5] END max_depth=250, max_features=auto, n_estimators=70; total time=   0.2s\n",
      "[CV 2/5] END max_depth=250, max_features=auto, n_estimators=70; total time=   0.2s\n",
      "[CV 3/5] END max_depth=250, max_features=auto, n_estimators=70; total time=   0.2s\n",
      "[CV 4/5] END max_depth=250, max_features=auto, n_estimators=70; total time=   0.2s\n",
      "[CV 5/5] END max_depth=250, max_features=auto, n_estimators=70; total time=   0.1s\n",
      "[CV 1/5] END max_depth=250, max_features=auto, n_estimators=90; total time=   0.3s\n",
      "[CV 2/5] END max_depth=250, max_features=auto, n_estimators=90; total time=   0.3s\n",
      "[CV 3/5] END max_depth=250, max_features=auto, n_estimators=90; total time=   0.3s\n",
      "[CV 4/5] END max_depth=250, max_features=auto, n_estimators=90; total time=   0.3s\n",
      "[CV 5/5] END max_depth=250, max_features=auto, n_estimators=90; total time=   0.3s\n",
      "[CV 1/5] END max_depth=250, max_features=auto, n_estimators=110; total time=   0.4s\n",
      "[CV 2/5] END max_depth=250, max_features=auto, n_estimators=110; total time=   0.4s\n",
      "[CV 3/5] END max_depth=250, max_features=auto, n_estimators=110; total time=   0.4s\n",
      "[CV 4/5] END max_depth=250, max_features=auto, n_estimators=110; total time=   0.4s\n",
      "[CV 5/5] END max_depth=250, max_features=auto, n_estimators=110; total time=   0.4s\n",
      "[CV 1/5] END max_depth=250, max_features=sqrt, n_estimators=10; total time=   0.0s\n",
      "[CV 2/5] END max_depth=250, max_features=sqrt, n_estimators=10; total time=   0.0s\n",
      "[CV 3/5] END max_depth=250, max_features=sqrt, n_estimators=10; total time=   0.0s\n",
      "[CV 4/5] END max_depth=250, max_features=sqrt, n_estimators=10; total time=   0.0s\n",
      "[CV 5/5] END max_depth=250, max_features=sqrt, n_estimators=10; total time=   0.0s\n",
      "[CV 1/5] END max_depth=250, max_features=sqrt, n_estimators=30; total time=   0.0s\n",
      "[CV 2/5] END max_depth=250, max_features=sqrt, n_estimators=30; total time=   0.0s\n",
      "[CV 3/5] END max_depth=250, max_features=sqrt, n_estimators=30; total time=   0.0s\n",
      "[CV 4/5] END max_depth=250, max_features=sqrt, n_estimators=30; total time=   0.0s\n",
      "[CV 5/5] END max_depth=250, max_features=sqrt, n_estimators=30; total time=   0.0s\n",
      "[CV 1/5] END max_depth=250, max_features=sqrt, n_estimators=50; total time=   0.1s\n",
      "[CV 2/5] END max_depth=250, max_features=sqrt, n_estimators=50; total time=   0.1s\n",
      "[CV 3/5] END max_depth=250, max_features=sqrt, n_estimators=50; total time=   0.1s\n",
      "[CV 4/5] END max_depth=250, max_features=sqrt, n_estimators=50; total time=   0.1s\n",
      "[CV 5/5] END max_depth=250, max_features=sqrt, n_estimators=50; total time=   0.1s\n",
      "[CV 1/5] END max_depth=250, max_features=sqrt, n_estimators=70; total time=   0.2s\n",
      "[CV 2/5] END max_depth=250, max_features=sqrt, n_estimators=70; total time=   0.2s\n",
      "[CV 3/5] END max_depth=250, max_features=sqrt, n_estimators=70; total time=   0.2s\n",
      "[CV 4/5] END max_depth=250, max_features=sqrt, n_estimators=70; total time=   0.2s\n",
      "[CV 5/5] END max_depth=250, max_features=sqrt, n_estimators=70; total time=   0.2s\n",
      "[CV 1/5] END max_depth=250, max_features=sqrt, n_estimators=90; total time=   0.3s\n",
      "[CV 2/5] END max_depth=250, max_features=sqrt, n_estimators=90; total time=   0.3s\n",
      "[CV 3/5] END max_depth=250, max_features=sqrt, n_estimators=90; total time=   0.3s\n",
      "[CV 4/5] END max_depth=250, max_features=sqrt, n_estimators=90; total time=   0.3s\n",
      "[CV 5/5] END max_depth=250, max_features=sqrt, n_estimators=90; total time=   0.3s\n",
      "[CV 1/5] END max_depth=250, max_features=sqrt, n_estimators=110; total time=   0.4s\n",
      "[CV 2/5] END max_depth=250, max_features=sqrt, n_estimators=110; total time=   0.4s\n",
      "[CV 3/5] END max_depth=250, max_features=sqrt, n_estimators=110; total time=   0.4s\n",
      "[CV 4/5] END max_depth=250, max_features=sqrt, n_estimators=110; total time=   0.4s\n",
      "[CV 5/5] END max_depth=250, max_features=sqrt, n_estimators=110; total time=   0.4s\n",
      "[CV 1/5] END max_depth=250, max_features=log2, n_estimators=10; total time=   0.0s\n",
      "[CV 2/5] END max_depth=250, max_features=log2, n_estimators=10; total time=   0.0s\n",
      "[CV 3/5] END max_depth=250, max_features=log2, n_estimators=10; total time=   0.0s\n",
      "[CV 4/5] END max_depth=250, max_features=log2, n_estimators=10; total time=   0.0s\n",
      "[CV 5/5] END max_depth=250, max_features=log2, n_estimators=10; total time=   0.0s\n",
      "[CV 1/5] END max_depth=250, max_features=log2, n_estimators=30; total time=   0.1s\n",
      "[CV 2/5] END max_depth=250, max_features=log2, n_estimators=30; total time=   0.1s\n",
      "[CV 3/5] END max_depth=250, max_features=log2, n_estimators=30; total time=   0.1s\n",
      "[CV 4/5] END max_depth=250, max_features=log2, n_estimators=30; total time=   0.0s\n",
      "[CV 5/5] END max_depth=250, max_features=log2, n_estimators=30; total time=   0.0s\n",
      "[CV 1/5] END max_depth=250, max_features=log2, n_estimators=50; total time=   0.2s\n",
      "[CV 2/5] END max_depth=250, max_features=log2, n_estimators=50; total time=   0.1s\n",
      "[CV 3/5] END max_depth=250, max_features=log2, n_estimators=50; total time=   0.1s\n",
      "[CV 4/5] END max_depth=250, max_features=log2, n_estimators=50; total time=   0.1s\n",
      "[CV 5/5] END max_depth=250, max_features=log2, n_estimators=50; total time=   0.1s\n",
      "[CV 1/5] END max_depth=250, max_features=log2, n_estimators=70; total time=   0.2s\n",
      "[CV 2/5] END max_depth=250, max_features=log2, n_estimators=70; total time=   0.2s\n",
      "[CV 3/5] END max_depth=250, max_features=log2, n_estimators=70; total time=   0.2s\n",
      "[CV 4/5] END max_depth=250, max_features=log2, n_estimators=70; total time=   0.1s\n",
      "[CV 5/5] END max_depth=250, max_features=log2, n_estimators=70; total time=   0.2s\n",
      "[CV 1/5] END max_depth=250, max_features=log2, n_estimators=90; total time=   0.3s\n",
      "[CV 2/5] END max_depth=250, max_features=log2, n_estimators=90; total time=   0.3s\n",
      "[CV 3/5] END max_depth=250, max_features=log2, n_estimators=90; total time=   0.3s\n",
      "[CV 4/5] END max_depth=250, max_features=log2, n_estimators=90; total time=   0.3s\n",
      "[CV 5/5] END max_depth=250, max_features=log2, n_estimators=90; total time=   0.3s\n",
      "[CV 1/5] END max_depth=250, max_features=log2, n_estimators=110; total time=   0.4s\n",
      "[CV 2/5] END max_depth=250, max_features=log2, n_estimators=110; total time=   0.4s\n",
      "[CV 3/5] END max_depth=250, max_features=log2, n_estimators=110; total time=   0.4s\n",
      "[CV 4/5] END max_depth=250, max_features=log2, n_estimators=110; total time=   0.4s\n",
      "[CV 5/5] END max_depth=250, max_features=log2, n_estimators=110; total time=   0.4s\n",
      "[CV 1/5] END max_depth=300, max_features=auto, n_estimators=10; total time=   0.0s\n",
      "[CV 2/5] END max_depth=300, max_features=auto, n_estimators=10; total time=   0.0s\n",
      "[CV 3/5] END max_depth=300, max_features=auto, n_estimators=10; total time=   0.0s\n",
      "[CV 4/5] END max_depth=300, max_features=auto, n_estimators=10; total time=   0.0s\n",
      "[CV 5/5] END max_depth=300, max_features=auto, n_estimators=10; total time=   0.0s\n",
      "[CV 1/5] END max_depth=300, max_features=auto, n_estimators=30; total time=   0.0s\n",
      "[CV 2/5] END max_depth=300, max_features=auto, n_estimators=30; total time=   0.0s\n",
      "[CV 3/5] END max_depth=300, max_features=auto, n_estimators=30; total time=   0.0s\n",
      "[CV 4/5] END max_depth=300, max_features=auto, n_estimators=30; total time=   0.0s\n",
      "[CV 5/5] END max_depth=300, max_features=auto, n_estimators=30; total time=   0.0s\n",
      "[CV 1/5] END max_depth=300, max_features=auto, n_estimators=50; total time=   0.1s\n",
      "[CV 2/5] END max_depth=300, max_features=auto, n_estimators=50; total time=   0.1s\n",
      "[CV 3/5] END max_depth=300, max_features=auto, n_estimators=50; total time=   0.1s\n",
      "[CV 4/5] END max_depth=300, max_features=auto, n_estimators=50; total time=   0.1s\n",
      "[CV 5/5] END max_depth=300, max_features=auto, n_estimators=50; total time=   0.1s\n",
      "[CV 1/5] END max_depth=300, max_features=auto, n_estimators=70; total time=   0.2s\n",
      "[CV 2/5] END max_depth=300, max_features=auto, n_estimators=70; total time=   0.2s\n",
      "[CV 3/5] END max_depth=300, max_features=auto, n_estimators=70; total time=   0.2s\n",
      "[CV 4/5] END max_depth=300, max_features=auto, n_estimators=70; total time=   0.2s\n",
      "[CV 5/5] END max_depth=300, max_features=auto, n_estimators=70; total time=   0.2s\n",
      "[CV 1/5] END max_depth=300, max_features=auto, n_estimators=90; total time=   0.3s\n",
      "[CV 2/5] END max_depth=300, max_features=auto, n_estimators=90; total time=   0.3s\n",
      "[CV 3/5] END max_depth=300, max_features=auto, n_estimators=90; total time=   0.3s\n",
      "[CV 4/5] END max_depth=300, max_features=auto, n_estimators=90; total time=   0.3s\n",
      "[CV 5/5] END max_depth=300, max_features=auto, n_estimators=90; total time=   0.3s\n",
      "[CV 1/5] END max_depth=300, max_features=auto, n_estimators=110; total time=   0.4s\n",
      "[CV 2/5] END max_depth=300, max_features=auto, n_estimators=110; total time=   0.4s\n",
      "[CV 3/5] END max_depth=300, max_features=auto, n_estimators=110; total time=   0.4s\n",
      "[CV 4/5] END max_depth=300, max_features=auto, n_estimators=110; total time=   0.4s\n",
      "[CV 5/5] END max_depth=300, max_features=auto, n_estimators=110; total time=   0.4s\n",
      "[CV 1/5] END max_depth=300, max_features=sqrt, n_estimators=10; total time=   0.0s\n",
      "[CV 2/5] END max_depth=300, max_features=sqrt, n_estimators=10; total time=   0.0s\n",
      "[CV 3/5] END max_depth=300, max_features=sqrt, n_estimators=10; total time=   0.0s\n",
      "[CV 4/5] END max_depth=300, max_features=sqrt, n_estimators=10; total time=   0.0s\n",
      "[CV 5/5] END max_depth=300, max_features=sqrt, n_estimators=10; total time=   0.0s\n",
      "[CV 1/5] END max_depth=300, max_features=sqrt, n_estimators=30; total time=   0.0s\n",
      "[CV 2/5] END max_depth=300, max_features=sqrt, n_estimators=30; total time=   0.0s\n",
      "[CV 3/5] END max_depth=300, max_features=sqrt, n_estimators=30; total time=   0.0s\n",
      "[CV 4/5] END max_depth=300, max_features=sqrt, n_estimators=30; total time=   0.0s\n",
      "[CV 5/5] END max_depth=300, max_features=sqrt, n_estimators=30; total time=   0.0s\n",
      "[CV 1/5] END max_depth=300, max_features=sqrt, n_estimators=50; total time=   0.1s\n",
      "[CV 2/5] END max_depth=300, max_features=sqrt, n_estimators=50; total time=   0.1s\n",
      "[CV 3/5] END max_depth=300, max_features=sqrt, n_estimators=50; total time=   0.1s\n",
      "[CV 4/5] END max_depth=300, max_features=sqrt, n_estimators=50; total time=   0.1s\n",
      "[CV 5/5] END max_depth=300, max_features=sqrt, n_estimators=50; total time=   0.1s\n",
      "[CV 1/5] END max_depth=300, max_features=sqrt, n_estimators=70; total time=   0.2s\n",
      "[CV 2/5] END max_depth=300, max_features=sqrt, n_estimators=70; total time=   0.2s\n",
      "[CV 3/5] END max_depth=300, max_features=sqrt, n_estimators=70; total time=   0.2s\n",
      "[CV 4/5] END max_depth=300, max_features=sqrt, n_estimators=70; total time=   0.2s\n",
      "[CV 5/5] END max_depth=300, max_features=sqrt, n_estimators=70; total time=   0.2s\n",
      "[CV 1/5] END max_depth=300, max_features=sqrt, n_estimators=90; total time=   0.3s\n",
      "[CV 2/5] END max_depth=300, max_features=sqrt, n_estimators=90; total time=   0.3s\n",
      "[CV 3/5] END max_depth=300, max_features=sqrt, n_estimators=90; total time=   0.3s\n",
      "[CV 4/5] END max_depth=300, max_features=sqrt, n_estimators=90; total time=   0.4s\n",
      "[CV 5/5] END max_depth=300, max_features=sqrt, n_estimators=90; total time=   0.3s\n",
      "[CV 1/5] END max_depth=300, max_features=sqrt, n_estimators=110; total time=   0.3s\n",
      "[CV 2/5] END max_depth=300, max_features=sqrt, n_estimators=110; total time=   0.4s\n",
      "[CV 3/5] END max_depth=300, max_features=sqrt, n_estimators=110; total time=   0.4s\n",
      "[CV 4/5] END max_depth=300, max_features=sqrt, n_estimators=110; total time=   0.4s\n",
      "[CV 5/5] END max_depth=300, max_features=sqrt, n_estimators=110; total time=   0.4s\n",
      "[CV 1/5] END max_depth=300, max_features=log2, n_estimators=10; total time=   0.0s\n",
      "[CV 2/5] END max_depth=300, max_features=log2, n_estimators=10; total time=   0.0s\n",
      "[CV 3/5] END max_depth=300, max_features=log2, n_estimators=10; total time=   0.0s\n",
      "[CV 4/5] END max_depth=300, max_features=log2, n_estimators=10; total time=   0.0s\n",
      "[CV 5/5] END max_depth=300, max_features=log2, n_estimators=10; total time=   0.0s\n",
      "[CV 1/5] END max_depth=300, max_features=log2, n_estimators=30; total time=   0.0s\n",
      "[CV 2/5] END max_depth=300, max_features=log2, n_estimators=30; total time=   0.0s\n",
      "[CV 3/5] END max_depth=300, max_features=log2, n_estimators=30; total time=   0.0s\n",
      "[CV 4/5] END max_depth=300, max_features=log2, n_estimators=30; total time=   0.0s\n",
      "[CV 5/5] END max_depth=300, max_features=log2, n_estimators=30; total time=   0.0s\n",
      "[CV 1/5] END max_depth=300, max_features=log2, n_estimators=50; total time=   0.1s\n",
      "[CV 2/5] END max_depth=300, max_features=log2, n_estimators=50; total time=   0.1s\n",
      "[CV 3/5] END max_depth=300, max_features=log2, n_estimators=50; total time=   0.1s\n",
      "[CV 4/5] END max_depth=300, max_features=log2, n_estimators=50; total time=   0.1s\n",
      "[CV 5/5] END max_depth=300, max_features=log2, n_estimators=50; total time=   0.1s\n",
      "[CV 1/5] END max_depth=300, max_features=log2, n_estimators=70; total time=   0.2s\n",
      "[CV 2/5] END max_depth=300, max_features=log2, n_estimators=70; total time=   0.2s\n",
      "[CV 3/5] END max_depth=300, max_features=log2, n_estimators=70; total time=   0.2s\n",
      "[CV 4/5] END max_depth=300, max_features=log2, n_estimators=70; total time=   0.2s\n",
      "[CV 5/5] END max_depth=300, max_features=log2, n_estimators=70; total time=   0.2s\n",
      "[CV 1/5] END max_depth=300, max_features=log2, n_estimators=90; total time=   0.3s\n",
      "[CV 2/5] END max_depth=300, max_features=log2, n_estimators=90; total time=   0.3s\n",
      "[CV 3/5] END max_depth=300, max_features=log2, n_estimators=90; total time=   0.3s\n",
      "[CV 4/5] END max_depth=300, max_features=log2, n_estimators=90; total time=   0.3s\n",
      "[CV 5/5] END max_depth=300, max_features=log2, n_estimators=90; total time=   0.3s\n",
      "[CV 1/5] END max_depth=300, max_features=log2, n_estimators=110; total time=   0.4s\n",
      "[CV 2/5] END max_depth=300, max_features=log2, n_estimators=110; total time=   0.4s\n",
      "[CV 3/5] END max_depth=300, max_features=log2, n_estimators=110; total time=   0.4s\n",
      "[CV 4/5] END max_depth=300, max_features=log2, n_estimators=110; total time=   0.4s\n",
      "[CV 5/5] END max_depth=300, max_features=log2, n_estimators=110; total time=   0.4s\n",
      "[CV 1/5] END max_depth=350, max_features=auto, n_estimators=10; total time=   0.0s\n",
      "[CV 2/5] END max_depth=350, max_features=auto, n_estimators=10; total time=   0.0s\n",
      "[CV 3/5] END max_depth=350, max_features=auto, n_estimators=10; total time=   0.0s\n",
      "[CV 4/5] END max_depth=350, max_features=auto, n_estimators=10; total time=   0.0s\n",
      "[CV 5/5] END max_depth=350, max_features=auto, n_estimators=10; total time=   0.0s\n",
      "[CV 1/5] END max_depth=350, max_features=auto, n_estimators=30; total time=   0.0s\n",
      "[CV 2/5] END max_depth=350, max_features=auto, n_estimators=30; total time=   0.0s\n",
      "[CV 3/5] END max_depth=350, max_features=auto, n_estimators=30; total time=   0.0s\n",
      "[CV 4/5] END max_depth=350, max_features=auto, n_estimators=30; total time=   0.0s\n",
      "[CV 5/5] END max_depth=350, max_features=auto, n_estimators=30; total time=   0.0s\n",
      "[CV 1/5] END max_depth=350, max_features=auto, n_estimators=50; total time=   0.1s\n",
      "[CV 2/5] END max_depth=350, max_features=auto, n_estimators=50; total time=   0.1s\n",
      "[CV 3/5] END max_depth=350, max_features=auto, n_estimators=50; total time=   0.1s\n",
      "[CV 4/5] END max_depth=350, max_features=auto, n_estimators=50; total time=   0.1s\n",
      "[CV 5/5] END max_depth=350, max_features=auto, n_estimators=50; total time=   0.1s\n",
      "[CV 1/5] END max_depth=350, max_features=auto, n_estimators=70; total time=   0.2s\n",
      "[CV 2/5] END max_depth=350, max_features=auto, n_estimators=70; total time=   0.1s\n",
      "[CV 3/5] END max_depth=350, max_features=auto, n_estimators=70; total time=   0.2s\n",
      "[CV 4/5] END max_depth=350, max_features=auto, n_estimators=70; total time=   0.3s\n",
      "[CV 5/5] END max_depth=350, max_features=auto, n_estimators=70; total time=   0.2s\n",
      "[CV 1/5] END max_depth=350, max_features=auto, n_estimators=90; total time=   0.3s\n",
      "[CV 2/5] END max_depth=350, max_features=auto, n_estimators=90; total time=   0.3s\n",
      "[CV 3/5] END max_depth=350, max_features=auto, n_estimators=90; total time=   0.3s\n",
      "[CV 4/5] END max_depth=350, max_features=auto, n_estimators=90; total time=   0.3s\n",
      "[CV 5/5] END max_depth=350, max_features=auto, n_estimators=90; total time=   0.3s\n",
      "[CV 1/5] END max_depth=350, max_features=auto, n_estimators=110; total time=   0.4s\n",
      "[CV 2/5] END max_depth=350, max_features=auto, n_estimators=110; total time=   0.4s\n",
      "[CV 3/5] END max_depth=350, max_features=auto, n_estimators=110; total time=   0.4s\n",
      "[CV 4/5] END max_depth=350, max_features=auto, n_estimators=110; total time=   0.4s\n",
      "[CV 5/5] END max_depth=350, max_features=auto, n_estimators=110; total time=   0.4s\n",
      "[CV 1/5] END max_depth=350, max_features=sqrt, n_estimators=10; total time=   0.0s\n",
      "[CV 2/5] END max_depth=350, max_features=sqrt, n_estimators=10; total time=   0.0s\n",
      "[CV 3/5] END max_depth=350, max_features=sqrt, n_estimators=10; total time=   0.0s\n",
      "[CV 4/5] END max_depth=350, max_features=sqrt, n_estimators=10; total time=   0.0s\n",
      "[CV 5/5] END max_depth=350, max_features=sqrt, n_estimators=10; total time=   0.0s\n",
      "[CV 1/5] END max_depth=350, max_features=sqrt, n_estimators=30; total time=   0.0s\n",
      "[CV 2/5] END max_depth=350, max_features=sqrt, n_estimators=30; total time=   0.0s\n",
      "[CV 3/5] END max_depth=350, max_features=sqrt, n_estimators=30; total time=   0.0s\n",
      "[CV 4/5] END max_depth=350, max_features=sqrt, n_estimators=30; total time=   0.0s\n",
      "[CV 5/5] END max_depth=350, max_features=sqrt, n_estimators=30; total time=   0.0s\n",
      "[CV 1/5] END max_depth=350, max_features=sqrt, n_estimators=50; total time=   0.1s\n",
      "[CV 2/5] END max_depth=350, max_features=sqrt, n_estimators=50; total time=   0.1s\n",
      "[CV 3/5] END max_depth=350, max_features=sqrt, n_estimators=50; total time=   0.1s\n",
      "[CV 4/5] END max_depth=350, max_features=sqrt, n_estimators=50; total time=   0.1s\n",
      "[CV 5/5] END max_depth=350, max_features=sqrt, n_estimators=50; total time=   0.1s\n",
      "[CV 1/5] END max_depth=350, max_features=sqrt, n_estimators=70; total time=   0.2s\n",
      "[CV 2/5] END max_depth=350, max_features=sqrt, n_estimators=70; total time=   0.2s\n",
      "[CV 3/5] END max_depth=350, max_features=sqrt, n_estimators=70; total time=   0.2s\n",
      "[CV 4/5] END max_depth=350, max_features=sqrt, n_estimators=70; total time=   0.2s\n",
      "[CV 5/5] END max_depth=350, max_features=sqrt, n_estimators=70; total time=   0.2s\n",
      "[CV 1/5] END max_depth=350, max_features=sqrt, n_estimators=90; total time=   0.3s\n",
      "[CV 2/5] END max_depth=350, max_features=sqrt, n_estimators=90; total time=   0.3s\n",
      "[CV 3/5] END max_depth=350, max_features=sqrt, n_estimators=90; total time=   0.3s\n",
      "[CV 4/5] END max_depth=350, max_features=sqrt, n_estimators=90; total time=   0.3s\n",
      "[CV 5/5] END max_depth=350, max_features=sqrt, n_estimators=90; total time=   0.3s\n",
      "[CV 1/5] END max_depth=350, max_features=sqrt, n_estimators=110; total time=   0.4s\n",
      "[CV 2/5] END max_depth=350, max_features=sqrt, n_estimators=110; total time=   0.4s\n",
      "[CV 3/5] END max_depth=350, max_features=sqrt, n_estimators=110; total time=   0.4s\n",
      "[CV 4/5] END max_depth=350, max_features=sqrt, n_estimators=110; total time=   0.4s\n",
      "[CV 5/5] END max_depth=350, max_features=sqrt, n_estimators=110; total time=   0.4s\n",
      "[CV 1/5] END max_depth=350, max_features=log2, n_estimators=10; total time=   0.0s\n",
      "[CV 2/5] END max_depth=350, max_features=log2, n_estimators=10; total time=   0.0s\n",
      "[CV 3/5] END max_depth=350, max_features=log2, n_estimators=10; total time=   0.0s\n",
      "[CV 4/5] END max_depth=350, max_features=log2, n_estimators=10; total time=   0.0s\n",
      "[CV 5/5] END max_depth=350, max_features=log2, n_estimators=10; total time=   0.0s\n",
      "[CV 1/5] END max_depth=350, max_features=log2, n_estimators=30; total time=   0.1s\n",
      "[CV 2/5] END max_depth=350, max_features=log2, n_estimators=30; total time=   0.0s\n",
      "[CV 3/5] END max_depth=350, max_features=log2, n_estimators=30; total time=   0.1s\n",
      "[CV 4/5] END max_depth=350, max_features=log2, n_estimators=30; total time=   0.0s\n",
      "[CV 5/5] END max_depth=350, max_features=log2, n_estimators=30; total time=   0.1s\n",
      "[CV 1/5] END max_depth=350, max_features=log2, n_estimators=50; total time=   0.1s\n",
      "[CV 2/5] END max_depth=350, max_features=log2, n_estimators=50; total time=   0.1s\n",
      "[CV 3/5] END max_depth=350, max_features=log2, n_estimators=50; total time=   0.1s\n",
      "[CV 4/5] END max_depth=350, max_features=log2, n_estimators=50; total time=   0.1s\n",
      "[CV 5/5] END max_depth=350, max_features=log2, n_estimators=50; total time=   0.1s\n",
      "[CV 1/5] END max_depth=350, max_features=log2, n_estimators=70; total time=   0.1s\n",
      "[CV 2/5] END max_depth=350, max_features=log2, n_estimators=70; total time=   0.2s\n",
      "[CV 3/5] END max_depth=350, max_features=log2, n_estimators=70; total time=   0.2s\n",
      "[CV 4/5] END max_depth=350, max_features=log2, n_estimators=70; total time=   0.2s\n",
      "[CV 5/5] END max_depth=350, max_features=log2, n_estimators=70; total time=   0.2s\n",
      "[CV 1/5] END max_depth=350, max_features=log2, n_estimators=90; total time=   0.3s\n",
      "[CV 2/5] END max_depth=350, max_features=log2, n_estimators=90; total time=   0.3s\n",
      "[CV 3/5] END max_depth=350, max_features=log2, n_estimators=90; total time=   0.3s\n",
      "[CV 4/5] END max_depth=350, max_features=log2, n_estimators=90; total time=   0.3s\n",
      "[CV 5/5] END max_depth=350, max_features=log2, n_estimators=90; total time=   0.3s\n",
      "[CV 1/5] END max_depth=350, max_features=log2, n_estimators=110; total time=   0.4s\n",
      "[CV 2/5] END max_depth=350, max_features=log2, n_estimators=110; total time=   0.4s\n",
      "[CV 3/5] END max_depth=350, max_features=log2, n_estimators=110; total time=   0.4s\n",
      "[CV 4/5] END max_depth=350, max_features=log2, n_estimators=110; total time=   0.4s\n",
      "[CV 5/5] END max_depth=350, max_features=log2, n_estimators=110; total time=   0.4s\n"
     ]
    },
    {
     "data": {
      "text/plain": [
       "GridSearchCV(estimator=RandomForestClassifier(),\n",
       "             param_grid={'max_depth': [200, 250, 300, 350],\n",
       "                         'max_features': ['auto', 'sqrt', 'log2'],\n",
       "                         'n_estimators': [10, 30, 50, 70, 90, 110]},\n",
       "             verbose=4)"
      ]
     },
     "execution_count": 58,
     "metadata": {},
     "output_type": "execute_result"
    }
   ],
   "source": [
    "grid_clf.fit(x_train, y_train)"
   ]
  },
  {
   "cell_type": "code",
   "execution_count": 61,
   "id": "d7b6e3bc",
   "metadata": {},
   "outputs": [
    {
     "name": "stdout",
     "output_type": "stream",
     "text": [
      "RandomForestClassifier(max_depth=200, max_features='log2', n_estimators=10)\n"
     ]
    }
   ],
   "source": [
    "clf=grid_clf.best_estimator_\n",
    "print(clf)"
   ]
  },
  {
   "cell_type": "code",
   "execution_count": 62,
   "id": "a10f3966",
   "metadata": {},
   "outputs": [
    {
     "name": "stdout",
     "output_type": "stream",
     "text": [
      "{'max_depth': 200, 'max_features': 'log2', 'n_estimators': 10}\n"
     ]
    }
   ],
   "source": [
    "clf=grid_clf.best_params_\n",
    "print(clf)"
   ]
  },
  {
   "cell_type": "code",
   "execution_count": 63,
   "id": "74e12615",
   "metadata": {},
   "outputs": [
    {
     "name": "stdout",
     "output_type": "stream",
     "text": [
      "0.8118093174431202\n"
     ]
    }
   ],
   "source": [
    "clf=grid_clf.best_score_\n",
    "print(clf)"
   ]
  },
  {
   "cell_type": "code",
   "execution_count": 64,
   "id": "bd3d34d7",
   "metadata": {},
   "outputs": [
    {
     "data": {
      "text/plain": [
       "0.8156424581005587"
      ]
     },
     "execution_count": 64,
     "metadata": {},
     "output_type": "execute_result"
    }
   ],
   "source": [
    "clf = RandomForestClassifier(max_depth=200, n_estimators=10)\n",
    "clf.fit(x_train,y_train)\n",
    "clf.score(x_test,y_test)"
   ]
  },
  {
   "cell_type": "code",
   "execution_count": 65,
   "id": "ebf9bcd7",
   "metadata": {},
   "outputs": [
    {
     "data": {
      "text/plain": [
       "array([0, 0, 0, 0, 0, 0, 0, 1, 0, 0, 1, 0, 0, 1, 1, 0, 0, 0, 1, 1, 0, 1,\n",
       "       0, 0, 0, 1, 0, 0, 0, 1, 0, 0, 1, 0, 0, 0, 0, 0, 1, 0, 1, 0, 1, 1,\n",
       "       0, 1, 0, 0, 1, 1, 0, 0, 1, 1, 0, 0, 0, 1, 1, 1, 0, 0, 1, 1, 0, 1,\n",
       "       1, 0, 0, 0, 1, 0, 0, 0, 0, 0, 0, 1, 0, 0, 0, 0, 0, 0, 0, 0, 0, 1,\n",
       "       0, 1, 1, 0, 0, 0, 1, 0, 0, 0, 1, 1, 0, 0, 1, 0, 1, 0, 0, 0, 0, 0,\n",
       "       0, 0, 0, 1, 1, 0, 0, 0, 0, 0, 0, 1, 0, 0, 1, 1, 1, 0, 0, 1, 0, 0,\n",
       "       0, 0, 0, 0, 1, 0, 1, 0, 0, 0, 1, 1, 1, 0, 0, 0, 0, 0, 0, 1, 0, 1,\n",
       "       0, 0, 0, 1, 0, 1, 0, 0, 0, 1, 0, 1, 1, 1, 0, 0, 0, 1, 1, 0, 0, 1,\n",
       "       0, 1, 0, 0, 0, 0, 1, 1, 1, 0, 1, 0, 1, 0, 1, 0, 0, 1, 0, 0, 0, 0,\n",
       "       0, 1, 0, 1, 0, 1, 0, 0, 0, 0, 0, 1, 0, 0, 1, 0, 0, 0, 1, 0, 0, 1,\n",
       "       0, 0, 1, 0, 1, 0, 0, 0, 0, 1, 0, 0, 0, 1, 1, 0, 0, 0, 0, 0, 0, 0,\n",
       "       0, 1, 1, 0, 0, 0, 1, 0, 0, 0, 0, 1, 1, 0, 0, 0, 1, 0, 0, 0, 1, 1,\n",
       "       0, 0, 0, 0, 0, 0, 0, 0, 0, 1, 1, 0, 0, 0, 1, 0, 1, 0, 0, 0, 0, 0,\n",
       "       1, 1, 0, 0, 1, 1, 1, 0, 1, 0, 0, 1, 0, 0, 0, 0, 0, 1, 0, 0, 0, 1,\n",
       "       0, 0, 1, 1, 0, 0, 0, 0, 0, 0, 1, 0, 0, 0, 0, 0, 1, 0, 0, 0, 1, 0,\n",
       "       1, 0, 0, 0, 0, 1, 0, 0, 0, 0, 0, 1, 1, 1, 1, 0, 0, 0, 0, 0, 0, 0,\n",
       "       1, 1, 1, 0, 0, 0, 1, 0, 1, 1, 1, 0, 0, 0, 0, 1, 0, 0, 0, 0, 0, 1,\n",
       "       1, 0, 0, 0, 0, 1, 1, 0, 1, 0, 1, 0, 1, 0, 0, 0, 1, 0, 0, 0, 1, 0,\n",
       "       0, 0, 0, 0, 1, 1, 0, 0, 0, 1, 1, 1, 0, 0, 0, 1, 0, 0, 0, 1, 1, 0,\n",
       "       0, 1, 0, 0, 0, 0, 0, 0, 1, 1, 1, 1, 1, 1, 1, 1, 0, 0, 0, 1, 1, 0,\n",
       "       0, 1, 1, 0, 0, 0, 0, 0, 0, 0, 1, 1, 1, 0, 0, 0, 0, 1, 1, 0, 0, 0,\n",
       "       1, 0, 1, 0, 1, 0, 1, 1, 1, 1, 0, 0, 1, 0, 1, 0, 0, 1, 1, 1, 0, 0,\n",
       "       0, 1, 0, 0, 1, 0, 0, 0, 0, 0, 0, 0, 0, 0, 0, 0, 0, 0, 0, 0, 1, 1,\n",
       "       0, 0, 0, 1, 1, 0, 0, 1, 1, 1, 1, 0, 0, 1, 0, 0, 1, 0, 1, 0, 1, 0,\n",
       "       0, 1, 0, 0, 0, 1, 0, 1, 0, 0, 0, 0, 1, 1, 1, 0, 0, 1, 1, 1, 0, 1,\n",
       "       0, 0, 0, 0, 0, 1, 0, 1, 0, 1, 0, 0, 0, 1, 1, 0, 1, 0, 1, 1, 1, 0,\n",
       "       0, 1, 1, 0, 0, 0, 1, 0, 0, 0, 1, 0, 1, 1, 0, 0, 0, 1, 0, 0, 1, 1,\n",
       "       1, 0, 1, 1, 0, 1, 0, 0, 1, 0, 0, 0, 0, 0, 0, 1, 1, 0, 0, 0, 0, 0,\n",
       "       1, 0, 0, 0, 1, 1, 1, 0, 0, 1, 0, 0, 0, 0, 0, 1, 1, 1, 0, 1, 0, 0,\n",
       "       1, 0, 0, 0, 0, 0, 0, 0, 0, 0, 1, 1, 1, 1, 1, 1, 1, 0, 1, 0, 1, 0,\n",
       "       0, 1, 0, 0, 1, 0, 0, 0, 0, 0, 1, 1, 0, 0, 0, 1, 1, 0, 1, 1, 0, 1,\n",
       "       0, 0, 1, 1, 1, 1, 0, 0, 0, 1, 0, 0, 0, 1, 1, 0, 1, 1, 1, 0, 0, 1,\n",
       "       1, 1, 1, 1, 1, 0, 1, 0], dtype=int64)"
      ]
     },
     "execution_count": 65,
     "metadata": {},
     "output_type": "execute_result"
    }
   ],
   "source": [
    "y_pred=clf.predict(x_train)\n",
    "y_pred"
   ]
  },
  {
   "cell_type": "code",
   "execution_count": 66,
   "id": "94443c60",
   "metadata": {},
   "outputs": [
    {
     "data": {
      "text/plain": [
       "array([0, 0, 0, 1, 0, 0, 1, 1, 1, 1, 0, 0, 0, 1, 1, 1, 0, 0, 0, 1, 0, 1,\n",
       "       0, 0, 0, 1, 0, 1, 1, 0, 0, 1, 0, 0, 0, 0, 0, 0, 0, 0, 0, 0, 0, 0,\n",
       "       1, 0, 0, 1, 0, 0, 0, 0, 1, 0, 0, 0, 0, 0, 0, 0, 0, 1, 1, 0, 1, 0,\n",
       "       1, 0, 1, 1, 1, 0, 1, 0, 0, 1, 0, 1, 0, 0, 0, 1, 1, 0, 0, 1, 1, 0,\n",
       "       1, 1, 0, 0, 1, 1, 0, 0, 1, 0, 0, 0, 0, 0, 0, 0, 0, 1, 1, 0, 0, 1,\n",
       "       0, 1, 1, 0, 1, 1, 0, 1, 0, 0, 1, 0, 0, 0, 0, 0, 0, 0, 0, 0, 1, 0,\n",
       "       0, 0, 0, 0, 0, 0, 0, 0, 0, 1, 0, 1, 1, 0, 0, 0, 1, 0, 0, 0, 1, 0,\n",
       "       1, 0, 0, 0, 1, 1, 0, 0, 1, 0, 0, 0, 0, 1, 0, 0, 0, 1, 0, 0, 1, 0,\n",
       "       1, 0, 1], dtype=int64)"
      ]
     },
     "execution_count": 66,
     "metadata": {},
     "output_type": "execute_result"
    }
   ],
   "source": [
    "y_pred=clf.predict(x_test)\n",
    "y_pred"
   ]
  },
  {
   "cell_type": "code",
   "execution_count": 67,
   "id": "2347b98f",
   "metadata": {},
   "outputs": [
    {
     "data": {
      "text/plain": [
       "0.8156424581005587"
      ]
     },
     "execution_count": 67,
     "metadata": {},
     "output_type": "execute_result"
    }
   ],
   "source": [
    "accuracy_score(y_test,y_pred)"
   ]
  },
  {
   "cell_type": "code",
   "execution_count": 68,
   "id": "d0244c40",
   "metadata": {},
   "outputs": [
    {
     "data": {
      "image/png": "[encoded data removed]",
      "text/plain": [
       "<Figure size 432x288 with 1 Axes>"
      ]
     },
     "metadata": {
      "needs_background": "light"
     },
     "output_type": "display_data"
    },
    {
     "name": "stdout",
     "output_type": "stream",
     "text": [
      "The Score for the ROC Curve is : 79.33%\n"
     ]
    }
   ],
   "source": [
    "#roc_curve plot to check the socre of RFC\n",
    "fpr, tpr, _= roc_curve(y_test, y_pred)\n",
    "auc_score = roc_auc_score(y_test, y_pred)\n",
    "plt.plot(fpr, tpr, label=\"auc=\"+str(auc_score))\n",
    "plt.box(True)\n",
    "plt.title('ROC CURVE RFC')\n",
    "plt.xlabel('False Positive Rate')\n",
    "plt.ylabel('True Positive Rate')\n",
    "plt.legend(loc=4)\n",
    "plt.grid(True)\n",
    "plt.show()\n",
    "print('The Score for the ROC Curve is : {}%'.format(round(auc_score,4)*100))"
   ]
  },
  {
   "cell_type": "code",
   "execution_count": 70,
   "id": "b25e4a22",
   "metadata": {},
   "outputs": [
    {
     "name": "stdout",
     "output_type": "stream",
     "text": [
      "0.8058690603226415\n"
     ]
    }
   ],
   "source": [
    "print(cross_val_score(RFC,x,y,cv=5).mean())"
   ]
  },
  {
   "cell_type": "markdown",
   "id": "8064cd3a",
   "metadata": {},
   "source": [
    "RandomForestClassifier model is the best accuracy result to be my final model "
   ]
  },
  {
   "cell_type": "markdown",
   "id": "14ead783",
   "metadata": {},
   "source": [
    "# Saving the model"
   ]
  },
  {
   "cell_type": "code",
   "execution_count": 71,
   "id": "35888a70",
   "metadata": {},
   "outputs": [
    {
     "data": {
      "text/plain": [
       "['titanik.pkl']"
      ]
     },
     "execution_count": 71,
     "metadata": {},
     "output_type": "execute_result"
    }
   ],
   "source": [
    "import joblib\n",
    "joblib.dump(clf,'titanik.pkl')"
   ]
  },
  {
   "cell_type": "code",
   "execution_count": null,
   "id": "c3ecb5a1",
   "metadata": {},
   "outputs": [],
   "source": []
  }
 ],
 "metadata": {
  "kernelspec": {
   "display_name": "Python 3",
   "language": "python",
   "name": "python3"
  },
  "language_info": {
   "codemirror_mode": {
    "name": "ipython",
    "version": 3
   },
   "file_extension": ".py",
   "mimetype": "text/x-python",
   "name": "python",
   "nbconvert_exporter": "python",
   "pygments_lexer": "ipython3",
   "version": "3.8.8"
  }
 },
 "nbformat": 4,
 "nbformat_minor": 5
}
